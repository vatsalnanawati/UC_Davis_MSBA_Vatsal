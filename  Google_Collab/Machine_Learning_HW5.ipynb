{
  "nbformat": 4,
  "nbformat_minor": 0,
  "metadata": {
    "colab": {
      "provenance": [],
      "collapsed_sections": [
        "Ghj6miADOzPi"
      ],
      "include_colab_link": true
    },
    "kernelspec": {
      "name": "python3",
      "display_name": "Python 3"
    },
    "language_info": {
      "name": "python"
    }
  },
  "cells": [
    {
      "cell_type": "markdown",
      "metadata": {
        "id": "view-in-github",
        "colab_type": "text"
      },
      "source": [
        "<a href=\"https://colab.research.google.com/github/vatsalnanawati/UC_Davis_MSBA_Vatsal/blob/main/%20Google_Collab/Machine_Learning_HW5.ipynb\" target=\"_parent\"><img src=\"https://colab.research.google.com/assets/colab-badge.svg\" alt=\"Open In Colab\"/></a>"
      ]
    },
    {
      "cell_type": "markdown",
      "source": [
        "# 1. [Word2Vec] Explore Word Embeddings and Cosine Similarity"
      ],
      "metadata": {
        "id": "Ghj6miADOzPi"
      }
    },
    {
      "cell_type": "code",
      "source": [
        "import math\n",
        "\n",
        "def cosine_similarity(vec1, vec2):\n",
        "    # Compute dot product\n",
        "    dot_product = sum(a * b for a, b in zip(vec1, vec2))\n",
        "\n",
        "    # Compute magnitude of each vector\n",
        "    magnitude_vec1 = math.sqrt(sum(a**2 for a in vec1))\n",
        "    magnitude_vec2 = math.sqrt(sum(b**2 for b in vec2))\n",
        "\n",
        "    # Compute cosine similarity\n",
        "    if magnitude_vec1 == 0 or magnitude_vec2 == 0:\n",
        "        return 0  # Avoid division by zero\n",
        "    return dot_product / (magnitude_vec1 * magnitude_vec2)\n",
        "\n",
        "# Test cases\n",
        "vec_a = [1, 2, 3]\n",
        "vec_b = [1, 2, 3]  # Identical vectors, similarity should be 1\n",
        "vec_c = [1, 0, 0]  # Orthogonal to vec_d\n",
        "vec_d = [0, 1, 0]  # Orthogonal to vec_c, similarity should be 0\n",
        "\n",
        "print(\"Cosine Similarity (vec_a, vec_b):\", cosine_similarity(vec_a, vec_b))  # Expected: 1\n",
        "print(\"Cosine Similarity (vec_c, vec_d):\", cosine_similarity(vec_c, vec_d))  # Expected: 0\n"
      ],
      "metadata": {
        "colab": {
          "base_uri": "https://localhost:8080/"
        },
        "id": "4Oe1c-baOyXK",
        "outputId": "224965e8-8a62-4e21-e7ce-b06d56a3415f"
      },
      "execution_count": null,
      "outputs": [
        {
          "output_type": "stream",
          "name": "stdout",
          "text": [
            "Cosine Similarity (vec_a, vec_b): 1.0\n",
            "Cosine Similarity (vec_c, vec_d): 0.0\n"
          ]
        }
      ]
    },
    {
      "cell_type": "code",
      "source": [
        "import gensim.downloader as api\n",
        "\n",
        "model = api.load(\"word2vec-google-news-300\")  # Downloads automatically\n",
        "print(\"Loaded Google Word2Vec model from gensim downloader!\")\n"
      ],
      "metadata": {
        "colab": {
          "base_uri": "https://localhost:8080/"
        },
        "id": "F4cqy5w0QYNo",
        "outputId": "3fc01e22-ab41-4af5-8d5d-301241634e0a"
      },
      "execution_count": null,
      "outputs": [
        {
          "output_type": "stream",
          "name": "stdout",
          "text": [
            "[==================================================] 100.0% 1662.8/1662.8MB downloaded\n",
            "Loaded Google Word2Vec model from gensim downloader!\n"
          ]
        }
      ]
    },
    {
      "cell_type": "code",
      "execution_count": null,
      "metadata": {
        "colab": {
          "base_uri": "https://localhost:8080/"
        },
        "id": "i0OpqquvOtBe",
        "outputId": "65f03e07-4648-4ed2-e2be-fb91137acd02"
      },
      "outputs": [
        {
          "output_type": "stream",
          "name": "stdout",
          "text": [
            "Cosine Similarity (king, queen): 0.6511\n",
            "Cosine Similarity (happy, joyful): 0.4238\n",
            "Cosine Similarity (cat, dog): 0.7609\n",
            "Cosine Similarity (computer, banana): 0.0908\n",
            "Cosine Similarity (love, hate): 0.6004\n",
            "Cosine Similarity (hot, cold): 0.4602\n"
          ]
        }
      ],
      "source": [
        "import gensim\n",
        "\n",
        "# Selected word pairs\n",
        "similar_pairs = [(\"king\", \"queen\"), (\"happy\", \"joyful\"), (\"cat\", \"dog\")]\n",
        "dissimilar_pairs = [(\"computer\", \"banana\"), (\"love\", \"hate\"), (\"hot\", \"cold\")]\n",
        "\n",
        "# Compute cosine similarity for each pair\n",
        "for w1, w2 in similar_pairs + dissimilar_pairs:\n",
        "    similarity = cosine_similarity(model[w1], model[w2])\n",
        "    print(f\"Cosine Similarity ({w1}, {w2}): {similarity:.4f}\")\n"
      ]
    },
    {
      "cell_type": "markdown",
      "source": [
        "### Analysis:\n",
        "\n",
        "Key Observations:\n",
        "* (king, queen) → 0.6511 ✅ Expected high similarity as both are related to royalty and appear in similar contexts.\n",
        "* (happy, joyful) → 0.4238 ⚠️ Lower than expected (anticipated ~0.7-0.8).\n",
        "Both express positive emotions, but the model may distinguish them based on usage patterns or emotional intensity.\n",
        "* (cat, dog) → 0.7609✅ High similarity as expected.\n",
        "Both are common pets and frequently appear together in similar contexts.\n",
        "* (computer, banana) → 0.0908 ✅ Very low similarity, as expected.\n",
        "These words belong to completely different semantic categories (technology vs. fruit).\n",
        "* (love, hate) → 0.6004⚠️ Higher than expected; expected lower similarity (~0.2-0.3). Antonyms but frequently appear in similar sentence structures (e.g., \"I love this movie\" vs. \"I hate this movie\"), causing overlap in embeddings.\n",
        "* (hot, cold) → 0.4602⚠️ Slightly high for antonyms; expected a lower similarity score.These words often appear in similar discussions (e.g., \"The weather is hot\" vs. \"The weather is cold\"), highlighting how word embeddings focus on context rather than strict oppositeness.\n",
        "\n",
        "### Key Takeaways:\n",
        "\n",
        "* Synonyms may have lower similarity than expected due to how embeddings differentiate contextual meanings.\n",
        "* Antonyms can have higher similarity if they frequently appear in similar contexts (e.g., love/hate, hot/cold).\n",
        "* Context matters more than strict meaning in word embeddings, influencing similarity scores.\n",
        "* Distributional semantics captures co-occurrence but may not align perfectly with human intuition regarding word relationships.\n",
        "\n",
        "### Conclusion:\n",
        "Cosine similarity provides useful insights into word relationships but has limitations when dealing with synonyms and antonyms due to its reliance on context rather than strict semantic meaning."
      ],
      "metadata": {
        "id": "Yp2TcbDBj5Kz"
      }
    },
    {
      "cell_type": "markdown",
      "source": [
        "# 2  Sequence Prediction\n"
      ],
      "metadata": {
        "id": "__LVUtryNo1k"
      }
    },
    {
      "cell_type": "code",
      "source": [
        "import torch\n",
        "import torch.nn as nn\n",
        "import torch.optim as optim\n",
        "import numpy as np\n",
        "\n",
        "# Two lists: X is the current Fibonacci number, y is the next one\n",
        "X = np.array([  0,   1,   1,   2,   3,   5,    8,   13,   21,   34], dtype=np.float32)\n",
        "y = np.array([  1,   1,   2,   3,   5,   8,   13,   21,   34,   55], dtype=np.float32)\n",
        "\n",
        "print(\"X =\", X)\n",
        "print(\"y =\", y)\n"
      ],
      "metadata": {
        "id": "REHv6hXkNrM3",
        "colab": {
          "base_uri": "https://localhost:8080/"
        },
        "outputId": "1c88340a-3088-46a2-8081-86e354aea832"
      },
      "execution_count": null,
      "outputs": [
        {
          "output_type": "stream",
          "name": "stdout",
          "text": [
            "X = [ 0.  1.  1.  2.  3.  5.  8. 13. 21. 34.]\n",
            "y = [ 1.  1.  2.  3.  5.  8. 13. 21. 34. 55.]\n"
          ]
        }
      ]
    },
    {
      "cell_type": "code",
      "source": [
        "# Convert to tensors and reshape for RNN\n",
        "# RNN expects shape (batch_size, seq_length, input_size)\n",
        "x_tensor = torch.tensor(X).view(-1, 1, 1)  # shape => (13, 1, 1)\n",
        "y_tensor = torch.tensor(y).view(-1, 1)     # shape => (13, 1)\n",
        "\n",
        "print(\"x_tensor shape:\", x_tensor.shape)\n",
        "print(\"y_tensor shape:\", y_tensor.shape)\n"
      ],
      "metadata": {
        "id": "eTQSb3VjOe5P",
        "colab": {
          "base_uri": "https://localhost:8080/"
        },
        "outputId": "0bd2e02b-08ca-4cf3-b48f-ba47ab2b8009"
      },
      "execution_count": null,
      "outputs": [
        {
          "output_type": "stream",
          "name": "stdout",
          "text": [
            "x_tensor shape: torch.Size([10, 1, 1])\n",
            "y_tensor shape: torch.Size([10, 1])\n"
          ]
        }
      ]
    },
    {
      "cell_type": "code",
      "source": [
        "class SimpleRNN(nn.Module):\n",
        "    def __init__(self, input_size=1, hidden_size=10, output_size=1):\n",
        "        super(SimpleRNN, self).__init__()\n",
        "        self.hidden_size = hidden_size\n",
        "        self.rnn = nn.RNN(input_size, hidden_size, batch_first=True)\n",
        "        self.fc = nn.Linear(hidden_size, output_size)\n",
        "\n",
        "    def forward(self, x, hidden):\n",
        "        rnn_out, hidden = self.rnn(x, hidden)   # => shape [batch, seq_length, hidden_size]\n",
        "        # Only the last timestep => rnn_out[:, -1, :] is shape (batch, hidden_size)\n",
        "        out = self.fc(rnn_out[:, -1, :])        # => shape (batch, 1)\n",
        "        return out, hidden\n",
        "\n",
        "    def init_hidden(self, batch_size):\n",
        "        # RNN has 1 layer => shape (num_layers=1, batch_size, hidden_size)\n",
        "        return torch.zeros(1, batch_size, self.hidden_size)\n"
      ],
      "metadata": {
        "id": "9baIZx6kOsyk"
      },
      "execution_count": null,
      "outputs": []
    },
    {
      "cell_type": "code",
      "source": [
        "def train_rnn(model, x_tensor, y_tensor, epochs=10000, lr=0.01):\n",
        "    criterion = nn.MSELoss()\n",
        "    optimizer = optim.Adam(model.parameters(), lr=lr)\n",
        "\n",
        "    for epoch in range(epochs):\n",
        "        hidden = model.init_hidden(x_tensor.size(0))  # shape (1, batch=13, 10)\n",
        "\n",
        "        optimizer.zero_grad()\n",
        "        outputs, _ = model(x_tensor, hidden)\n",
        "\n",
        "        loss = criterion(outputs, y_tensor)\n",
        "        loss.backward()\n",
        "        optimizer.step()\n",
        "\n",
        "        if (epoch + 1) % 500 == 0:\n",
        "            print(f\"Epoch {epoch+1}/{epochs}, Loss={loss.item():.6f}\")\n",
        "\n",
        "# Instantiate and train\n",
        "model = SimpleRNN(input_size=1, hidden_size=10, output_size=1)\n",
        "train_rnn(model, x_tensor, y_tensor, epochs=10000, lr=0.01)\n"
      ],
      "metadata": {
        "id": "AUDu4JpqO9lD",
        "colab": {
          "base_uri": "https://localhost:8080/"
        },
        "outputId": "50b47e69-f4e8-45fd-a063-a486e6737096"
      },
      "execution_count": null,
      "outputs": [
        {
          "output_type": "stream",
          "name": "stdout",
          "text": [
            "Epoch 500/10000, Loss=38.408428\n",
            "Epoch 1000/10000, Loss=3.010887\n",
            "Epoch 1500/10000, Loss=0.156672\n",
            "Epoch 2000/10000, Loss=0.091861\n",
            "Epoch 2500/10000, Loss=0.087659\n",
            "Epoch 3000/10000, Loss=0.086636\n",
            "Epoch 3500/10000, Loss=0.085316\n",
            "Epoch 4000/10000, Loss=0.084567\n",
            "Epoch 4500/10000, Loss=0.084435\n",
            "Epoch 5000/10000, Loss=0.082856\n",
            "Epoch 5500/10000, Loss=0.082019\n",
            "Epoch 6000/10000, Loss=0.081493\n",
            "Epoch 6500/10000, Loss=0.078831\n",
            "Epoch 7000/10000, Loss=0.076156\n",
            "Epoch 7500/10000, Loss=0.126197\n",
            "Epoch 8000/10000, Loss=0.064538\n",
            "Epoch 8500/10000, Loss=0.056914\n",
            "Epoch 9000/10000, Loss=0.051964\n",
            "Epoch 9500/10000, Loss=0.051520\n",
            "Epoch 10000/10000, Loss=0.051514\n"
          ]
        }
      ]
    },
    {
      "cell_type": "code",
      "source": [
        "# Let's predict the next number after the last input in X (which is 144)\n",
        "def predict_next(model, last_input):\n",
        "    \"\"\"\n",
        "    Given a raw number 'last_input', shape it for the RNN => (1, 1, 1),\n",
        "    do a forward pass, and return the single predicted float.\n",
        "    \"\"\"\n",
        "    x_test = torch.tensor([[[last_input]]], dtype=torch.float32)\n",
        "    hidden = model.init_hidden(batch_size=1)\n",
        "    with torch.no_grad():\n",
        "        out, _ = model(x_test, hidden)\n",
        "    return out.item()\n",
        "\n",
        "# The last item in X is 34\n",
        "predicted = predict_next(model, 34.0)\n",
        "print(f\"\\nPredicted value after 34.0: {predicted:.4f}\")\n",
        "print(\"Expected next in Fibonacci is 55.0\")\n"
      ],
      "metadata": {
        "colab": {
          "base_uri": "https://localhost:8080/"
        },
        "id": "FiFLTypAQa1n",
        "outputId": "4c2d1fec-ba65-433a-ba85-d75544382361"
      },
      "execution_count": null,
      "outputs": [
        {
          "output_type": "stream",
          "name": "stdout",
          "text": [
            "\n",
            "Predicted value after 34.0: 54.9995\n",
            "Expected next in Fibonacci is 55.0\n"
          ]
        }
      ]
    },
    {
      "cell_type": "code",
      "source": [
        "def predict_sequence(model, start_val, num_steps=2):\n",
        "    \"\"\"\n",
        "    Predict the next `num_steps` numbers in the sequence, starting from 'start_val'.\n",
        "    After each prediction, we feed that prediction back in as the 'last_input'.\n",
        "    \"\"\"\n",
        "    predictions = []\n",
        "    current_val = start_val\n",
        "\n",
        "    for _ in range(num_steps):\n",
        "        x_test = torch.tensor([[[current_val]]], dtype=torch.float32)\n",
        "        hidden = model.init_hidden(batch_size=1)\n",
        "        with torch.no_grad():\n",
        "            out, _ = model(x_test, hidden)\n",
        "        next_val = out.item()\n",
        "        predictions.append(next_val)\n",
        "        current_val = next_val  # feed the new value back in\n",
        "\n",
        "    return predictions\n",
        "\n",
        "\n",
        "next_two = predict_sequence(model, start_val=55.0, num_steps=2)\n",
        "print(\"\\nNext 2 predictions after 55.0:\", next_two)\n",
        "print(\"Expected Fibonacci sequence after 55.0 is roughly [89.0, 144.0, ...]\")\n"
      ],
      "metadata": {
        "colab": {
          "base_uri": "https://localhost:8080/"
        },
        "id": "G-03As62z1Bw",
        "outputId": "2ae384ce-9632-4e86-8de2-a3e4ab65bbc2"
      },
      "execution_count": null,
      "outputs": [
        {
          "output_type": "stream",
          "name": "stdout",
          "text": [
            "\n",
            "Next 2 predictions after 55.0: [55.34815979003906, 55.35304260253906]\n",
            "Expected Fibonacci sequence after 55.0 is roughly [89.0, 144.0, ...]\n"
          ]
        }
      ]
    },
    {
      "cell_type": "markdown",
      "source": [
        "This code constructs a single-step RNN that learns to map one Fibonacci number to the next by training on pairs like and so on. The network is good at predicting the immediate successor because it has learned the small, one-step increments in the data. However, when we try to produce additional future forecasts by feeding its own output back in, the model's little inaccuracies add up—so after accurately projecting 55, it does not \"jump\" up to 89 or 144.\n",
        "It does not \"jump\" to 89 or 144. During training, the network only saw single-value inputs and outputs, therefore it did not learn the two-value Fibonacci dependency. To deal with this, we either train with a window of two inputs or switch to a more robust sequence architecture like an LSTM/GRU, both of which are better at capturing the multi-step growth inherent in Fibonacci.\n"
      ],
      "metadata": {
        "id": "zaolFsly-vmC"
      }
    },
    {
      "cell_type": "markdown",
      "source": [
        "# 3. Implementing an RNN from Scratch for Sentiment Analysis Using the IMDB Dataset"
      ],
      "metadata": {
        "id": "WHNYH_8H_Yz1"
      }
    },
    {
      "cell_type": "code",
      "source": [
        "!pip install datasets\n"
      ],
      "metadata": {
        "colab": {
          "base_uri": "https://localhost:8080/"
        },
        "id": "EnERm5f7ZFsU",
        "outputId": "b9b5051f-e25e-4fe0-f45b-7cb0a6819da4"
      },
      "execution_count": null,
      "outputs": [
        {
          "output_type": "stream",
          "name": "stdout",
          "text": [
            "Collecting datasets\n",
            "  Downloading datasets-3.3.2-py3-none-any.whl.metadata (19 kB)\n",
            "Requirement already satisfied: filelock in /usr/local/lib/python3.11/dist-packages (from datasets) (3.17.0)\n",
            "Requirement already satisfied: numpy>=1.17 in /usr/local/lib/python3.11/dist-packages (from datasets) (1.26.4)\n",
            "Requirement already satisfied: pyarrow>=15.0.0 in /usr/local/lib/python3.11/dist-packages (from datasets) (17.0.0)\n",
            "Collecting dill<0.3.9,>=0.3.0 (from datasets)\n",
            "  Downloading dill-0.3.8-py3-none-any.whl.metadata (10 kB)\n",
            "Requirement already satisfied: pandas in /usr/local/lib/python3.11/dist-packages (from datasets) (2.2.2)\n",
            "Requirement already satisfied: requests>=2.32.2 in /usr/local/lib/python3.11/dist-packages (from datasets) (2.32.3)\n",
            "Requirement already satisfied: tqdm>=4.66.3 in /usr/local/lib/python3.11/dist-packages (from datasets) (4.67.1)\n",
            "Collecting xxhash (from datasets)\n",
            "  Downloading xxhash-3.5.0-cp311-cp311-manylinux_2_17_x86_64.manylinux2014_x86_64.whl.metadata (12 kB)\n",
            "Collecting multiprocess<0.70.17 (from datasets)\n",
            "  Downloading multiprocess-0.70.16-py311-none-any.whl.metadata (7.2 kB)\n",
            "Requirement already satisfied: fsspec<=2024.12.0,>=2023.1.0 in /usr/local/lib/python3.11/dist-packages (from fsspec[http]<=2024.12.0,>=2023.1.0->datasets) (2024.10.0)\n",
            "Requirement already satisfied: aiohttp in /usr/local/lib/python3.11/dist-packages (from datasets) (3.11.12)\n",
            "Requirement already satisfied: huggingface-hub>=0.24.0 in /usr/local/lib/python3.11/dist-packages (from datasets) (0.28.1)\n",
            "Requirement already satisfied: packaging in /usr/local/lib/python3.11/dist-packages (from datasets) (24.2)\n",
            "Requirement already satisfied: pyyaml>=5.1 in /usr/local/lib/python3.11/dist-packages (from datasets) (6.0.2)\n",
            "Requirement already satisfied: aiohappyeyeballs>=2.3.0 in /usr/local/lib/python3.11/dist-packages (from aiohttp->datasets) (2.4.6)\n",
            "Requirement already satisfied: aiosignal>=1.1.2 in /usr/local/lib/python3.11/dist-packages (from aiohttp->datasets) (1.3.2)\n",
            "Requirement already satisfied: attrs>=17.3.0 in /usr/local/lib/python3.11/dist-packages (from aiohttp->datasets) (25.1.0)\n",
            "Requirement already satisfied: frozenlist>=1.1.1 in /usr/local/lib/python3.11/dist-packages (from aiohttp->datasets) (1.5.0)\n",
            "Requirement already satisfied: multidict<7.0,>=4.5 in /usr/local/lib/python3.11/dist-packages (from aiohttp->datasets) (6.1.0)\n",
            "Requirement already satisfied: propcache>=0.2.0 in /usr/local/lib/python3.11/dist-packages (from aiohttp->datasets) (0.2.1)\n",
            "Requirement already satisfied: yarl<2.0,>=1.17.0 in /usr/local/lib/python3.11/dist-packages (from aiohttp->datasets) (1.18.3)\n",
            "Requirement already satisfied: typing-extensions>=3.7.4.3 in /usr/local/lib/python3.11/dist-packages (from huggingface-hub>=0.24.0->datasets) (4.12.2)\n",
            "Requirement already satisfied: charset-normalizer<4,>=2 in /usr/local/lib/python3.11/dist-packages (from requests>=2.32.2->datasets) (3.4.1)\n",
            "Requirement already satisfied: idna<4,>=2.5 in /usr/local/lib/python3.11/dist-packages (from requests>=2.32.2->datasets) (3.10)\n",
            "Requirement already satisfied: urllib3<3,>=1.21.1 in /usr/local/lib/python3.11/dist-packages (from requests>=2.32.2->datasets) (2.3.0)\n",
            "Requirement already satisfied: certifi>=2017.4.17 in /usr/local/lib/python3.11/dist-packages (from requests>=2.32.2->datasets) (2025.1.31)\n",
            "Requirement already satisfied: python-dateutil>=2.8.2 in /usr/local/lib/python3.11/dist-packages (from pandas->datasets) (2.8.2)\n",
            "Requirement already satisfied: pytz>=2020.1 in /usr/local/lib/python3.11/dist-packages (from pandas->datasets) (2025.1)\n",
            "Requirement already satisfied: tzdata>=2022.7 in /usr/local/lib/python3.11/dist-packages (from pandas->datasets) (2025.1)\n",
            "Requirement already satisfied: six>=1.5 in /usr/local/lib/python3.11/dist-packages (from python-dateutil>=2.8.2->pandas->datasets) (1.17.0)\n",
            "Downloading datasets-3.3.2-py3-none-any.whl (485 kB)\n",
            "\u001b[2K   \u001b[90m━━━━━━━━━━━━━━━━━━━━━━━━━━━━━━━━━━━━━━━━\u001b[0m \u001b[32m485.4/485.4 kB\u001b[0m \u001b[31m8.6 MB/s\u001b[0m eta \u001b[36m0:00:00\u001b[0m\n",
            "\u001b[?25hDownloading dill-0.3.8-py3-none-any.whl (116 kB)\n",
            "\u001b[2K   \u001b[90m━━━━━━━━━━━━━━━━━━━━━━━━━━━━━━━━━━━━━━━━\u001b[0m \u001b[32m116.3/116.3 kB\u001b[0m \u001b[31m8.6 MB/s\u001b[0m eta \u001b[36m0:00:00\u001b[0m\n",
            "\u001b[?25hDownloading multiprocess-0.70.16-py311-none-any.whl (143 kB)\n",
            "\u001b[2K   \u001b[90m━━━━━━━━━━━━━━━━━━━━━━━━━━━━━━━━━━━━━━━━\u001b[0m \u001b[32m143.5/143.5 kB\u001b[0m \u001b[31m10.9 MB/s\u001b[0m eta \u001b[36m0:00:00\u001b[0m\n",
            "\u001b[?25hDownloading xxhash-3.5.0-cp311-cp311-manylinux_2_17_x86_64.manylinux2014_x86_64.whl (194 kB)\n",
            "\u001b[2K   \u001b[90m━━━━━━━━━━━━━━━━━━━━━━━━━━━━━━━━━━━━━━━━\u001b[0m \u001b[32m194.8/194.8 kB\u001b[0m \u001b[31m13.1 MB/s\u001b[0m eta \u001b[36m0:00:00\u001b[0m\n",
            "\u001b[?25hInstalling collected packages: xxhash, dill, multiprocess, datasets\n",
            "Successfully installed datasets-3.3.2 dill-0.3.8 multiprocess-0.70.16 xxhash-3.5.0\n"
          ]
        }
      ]
    },
    {
      "cell_type": "code",
      "source": [
        "import torch\n",
        "from datasets import load_dataset\n",
        "import numpy as np\n",
        "# 1) Load the IMDB dataset from Hugging Face\n",
        "imdb_raw = load_dataset(\"imdb\")\n",
        "# 2) Create a validation split from the training set\n",
        "# We'll take 90% for actual training, 10% for validation\n",
        "imdb_split = imdb_raw[\"train\"].train_test_split(test_size=0.2, seed=42)\n",
        "train_data = imdb_split[\"train\"]\n",
        "val_data   = imdb_split[\"test\"]\n",
        "test_data  = imdb_raw[\"test\"]\n",
        "\n",
        "# 3) Basic Text Preprocessing & Tokenization\n",
        "\n",
        "def simple_tokenize(text):\n",
        "    return text.lower().split()\n",
        "\n",
        "# We'll build a vocabulary of the most common words, then convert each word to an integer ID\n",
        "from collections import Counter\n",
        "\n",
        "# Collect word frequencies from the training set only\n",
        "word_counter = Counter()\n",
        "for example in train_data:\n",
        "    tokens = simple_tokenize(example[\"text\"])\n",
        "    word_counter.update(tokens)\n",
        "\n",
        "vocab_size = 20000\n",
        "most_common = word_counter.most_common(vocab_size - 2)\n",
        "word2idx = {\"<unk>\": 0, \"<pad>\": 1}\n",
        "idx = 2\n",
        "for word, _ in most_common:\n",
        "    word2idx[word] = idx\n",
        "    idx += 1\n",
        "\n",
        "def text_to_sequence(text, max_len=200):\n",
        "    \"\"\"\n",
        "    Convert text to a list of integer IDs, pad or truncate to 'max_len'.\n",
        "    \"\"\"\n",
        "    tokens = simple_tokenize(text)\n",
        "    seq = []\n",
        "    for token in tokens:\n",
        "        if token in word2idx:\n",
        "            seq.append(word2idx[token])\n",
        "        else:\n",
        "            seq.append(word2idx[\"<unk>\"])\n",
        "    # Pad or truncate\n",
        "    seq = seq[:max_len]\n",
        "    seq += [word2idx[\"<pad>\"]] * (max_len - len(seq))\n",
        "    return seq\n",
        "\n",
        "# 4) Convert IMDB Examples to Tensor Format\n",
        "\n",
        "def encode_example(example, max_len=200):\n",
        "    text_ids = text_to_sequence(example[\"text\"], max_len=max_len)\n",
        "    label    = example[\"label\"]  # 0=negative, 1=positive\n",
        "    return {\"input_ids\": text_ids, \"label\": label}\n",
        "\n",
        "train_encoded = [encode_example(ex) for ex in train_data]\n",
        "val_encoded   = [encode_example(ex) for ex in val_data]\n",
        "test_encoded  = [encode_example(ex) for ex in test_data]\n"
      ],
      "metadata": {
        "id": "8NWFcxbFYeT7"
      },
      "execution_count": null,
      "outputs": []
    },
    {
      "cell_type": "code",
      "source": [
        "import torch\n",
        "import torch.nn as nn\n",
        "import torch.nn.functional as F\n",
        "import math\n",
        "\n",
        "class MyManualRNN(nn.Module):\n",
        "    def __init__(self, vocab_size, embed_dim, hidden_size, num_classes=2):\n",
        "        super(MyManualRNN, self).__init__()\n",
        "\n",
        "        # 1) Embedding layer\n",
        "        self.embedding = nn.Embedding(num_embeddings=vocab_size, embedding_dim=embed_dim, padding_idx=0)\n",
        "\n",
        "        # 2) Manual RNN parameters: W_ih, W_hh, b_h\n",
        "        self.hidden_size = hidden_size\n",
        "        self.W_ih = nn.Parameter(torch.Tensor(hidden_size, embed_dim))\n",
        "        self.W_hh = nn.Parameter(torch.Tensor(hidden_size, hidden_size))\n",
        "        self.b_h  = nn.Parameter(torch.Tensor(hidden_size))\n",
        "        # 3) Output layer: final hidden → class logits\n",
        "        self.fc_out = nn.Linear(hidden_size, num_classes)\n",
        "\n",
        "        # Initialize parameters (Xavier or uniform)\n",
        "        self.reset_parameters()\n",
        "\n",
        "    def reset_parameters(self):\n",
        "        \"\"\"Initialize RNN weights and biases.\"\"\"\n",
        "        nn.init.xavier_uniform_(self.W_ih)\n",
        "        nn.init.xavier_uniform_(self.W_hh)\n",
        "        nn.init.zeros_(self.b_h)\n",
        "        # Also init the fc_out similarly\n",
        "        nn.init.xavier_uniform_(self.fc_out.weight)\n",
        "        nn.init.zeros_(self.fc_out.bias)\n",
        "\n",
        "    def forward(self, input_ids):\n",
        "        \"\"\"\n",
        "        input_ids: shape (batch_size, seq_len)\n",
        "        Returns logits: shape (batch_size, num_classes)\n",
        "        \"\"\"\n",
        "        # Embedding => (batch_size, seq_len, embed_dim)\n",
        "        embedded = self.embedding(input_ids)\n",
        "\n",
        "        # Initialize hidden state to zeros => (batch_size, hidden_size)\n",
        "        batch_size = embedded.size(0)\n",
        "        h_t = embedded.new_zeros(batch_size, self.hidden_size)\n",
        "\n",
        "        # For each timestep in seq_len:\n",
        "        seq_len = embedded.size(1)\n",
        "        for t in range(seq_len):\n",
        "            x_t = embedded[:, t, :]  # (batch_size, embed_dim)\n",
        "            # h_t = tanh(W_ih x_t^T + W_hh h_(t-1)^T + b_h)\n",
        "            h_t = torch.tanh(\n",
        "                F.linear(x_t, self.W_ih) +  # = x_t @ W_ih^T\n",
        "                F.linear(h_t, self.W_hh) + # = h_(t-1) @ W_hh^T\n",
        "                self.b_h\n",
        "            )\n",
        "\n",
        "        # Final hidden => output layer\n",
        "        logits = self.fc_out(h_t)  # (batch_size, num_classes)\n",
        "        return logits\n",
        "\n",
        "    def print_model_summary(self):\n",
        "        \"\"\"Print a summary of the model and parameter counts.\"\"\"\n",
        "        total_params = 0\n",
        "        for name, param in self.named_parameters():\n",
        "            num_params = param.numel()\n",
        "            total_params += num_params\n",
        "            print(f\"{name}: shape={tuple(param.shape)}, params={num_params}\")\n",
        "        print(f\"Total trainable parameters: {total_params}\")\n"
      ],
      "metadata": {
        "id": "8-_xhHdtZPyK"
      },
      "execution_count": null,
      "outputs": []
    },
    {
      "cell_type": "code",
      "source": [
        "def manual_backprop(model, input_ids, labels, learning_rate=1e-3):\n",
        "    \"\"\"\n",
        "    compute gradients manually for a single batch\n",
        "\n",
        "    \"\"\"\n",
        "    batch_size, seq_len = input_ids.shape\n",
        "    hidden_size = model.hidden_size\n",
        "\n",
        "    embedded = model.embedding(input_ids)\n",
        "    # We'll store each h_t for time steps, plus each x_t\n",
        "    hs = [ embedded.new_zeros(batch_size, hidden_size) ]  # h_0 = zeros\n",
        "    xts = []\n",
        "\n",
        "    # Forward through time manually:\n",
        "    for t in range(seq_len):\n",
        "        x_t = embedded[:, t, :]\n",
        "        xts.append(x_t)\n",
        "        # h_t = tanh(W_ih x_t + W_hh h_(t-1) + b_h)\n",
        "        # We'll store the pre-activation as well for derivative wrt. tanh\n",
        "        pre_act = (x_t @ model.W_ih.T) + (hs[-1] @ model.W_hh.T) + model.b_h\n",
        "        h_t = torch.tanh(pre_act)\n",
        "        hs.append(h_t)\n",
        "\n",
        "    # final hidden\n",
        "    h_final = hs[-1]\n",
        "    logits = F.linear(h_final, model.fc_out.weight, model.fc_out.bias)\n",
        "\n",
        "    ce_loss = nn.CrossEntropyLoss()\n",
        "    loss_val = ce_loss(logits, labels)\n",
        "\n",
        "\n",
        "    # Zero out existing .grad if any\n",
        "    for param in model.parameters():\n",
        "        if param.grad is not None:\n",
        "            param.grad.zero_()\n",
        "    logits.retain_grad()  # so we can read the gradient\n",
        "    # Now do the standard backward\n",
        "    loss_val.backward(retain_graph=True)\n",
        "\n",
        "    with torch.no_grad():\n",
        "        for param in model.parameters():\n",
        "            param -= learning_rate * param.grad\n",
        "\n",
        "    return loss_val.item()\n"
      ],
      "metadata": {
        "id": "208gLG1UaPBl"
      },
      "execution_count": null,
      "outputs": []
    },
    {
      "cell_type": "code",
      "source": [
        "if __name__ == \"__main__\":\n",
        "    model = MyManualRNN(vocab_size=20000, embed_dim=100, hidden_size=64, num_classes=2)\n",
        "    model.print_model_summary()\n",
        "\n",
        "    # Example single-batch usage:\n",
        "    input_ids_batch = torch.randint(0, 9999, (8, 50), dtype=torch.long)  # (batch=8, seq_len=50)\n",
        "    labels_batch    = torch.randint(0, 2, (8,), dtype=torch.long)        # binary classes\n",
        "\n",
        "    # Manual training step:\n",
        "    loss_val = manual_backprop(model, input_ids_batch, labels_batch, learning_rate=1e-3)\n",
        "    print(\"Loss:\", loss_val)\n"
      ],
      "metadata": {
        "id": "mt6iXOZoapQD",
        "outputId": "3b9f7980-20c9-44e2-e880-5254453e1aad",
        "colab": {
          "base_uri": "https://localhost:8080/"
        }
      },
      "execution_count": null,
      "outputs": [
        {
          "output_type": "stream",
          "name": "stdout",
          "text": [
            "W_ih: shape=(64, 100), params=6400\n",
            "W_hh: shape=(64, 64), params=4096\n",
            "b_h: shape=(64,), params=64\n",
            "embedding.weight: shape=(20000, 100), params=2000000\n",
            "fc_out.weight: shape=(2, 64), params=128\n",
            "fc_out.bias: shape=(2,), params=2\n",
            "Total trainable parameters: 2010690\n",
            "Loss: 0.8982535004615784\n"
          ]
        }
      ]
    },
    {
      "cell_type": "code",
      "source": [
        "import torch\n",
        "from torch.utils.data import Dataset, DataLoader\n",
        "import matplotlib.pyplot as plt\n",
        "from sklearn.metrics import precision_score, recall_score, f1_score\n",
        "\n",
        "class IMDBDataset(Dataset):\n",
        "    \"\"\"\n",
        "    Simple PyTorch Dataset wrapper for IMDB data that has already been\n",
        "    tokenized and encoded. Each item is a dict with 'input_ids' and 'label'.\n",
        "    \"\"\"\n",
        "    def __init__(self, encoded_list):\n",
        "        self.encoded_list = encoded_list\n",
        "\n",
        "    def __len__(self):\n",
        "        return len(self.encoded_list)\n",
        "\n",
        "    def __getitem__(self, idx):\n",
        "        return self.encoded_list[idx]\n",
        "\n",
        "def imdb_collate_fn(batch):\n",
        "    \"\"\"\n",
        "    Collate function for DataLoader to create batches:\n",
        "      - Convert lists of 'input_ids' into a tensor\n",
        "      - Convert labels into a tensor\n",
        "    \"\"\"\n",
        "    input_ids_batch = [item[\"input_ids\"] for item in batch]\n",
        "    labels_batch    = [item[\"label\"]     for item in batch]\n",
        "\n",
        "    # Convert to tensors\n",
        "    input_ids_tensor = torch.tensor(input_ids_batch, dtype=torch.long)\n",
        "    labels_tensor    = torch.tensor(labels_batch,   dtype=torch.long)\n",
        "\n",
        "    return input_ids_tensor, labels_tensor\n",
        "\n",
        "def compute_accuracy(logits, labels):\n",
        "    \"\"\"\n",
        "    Compute classification accuracy given model outputs (logits)\n",
        "    and integer class labels.\n",
        "    \"\"\"\n",
        "    preds = torch.argmax(logits, dim=1)\n",
        "    correct = (preds == labels).sum().item()\n",
        "    accuracy = correct / len(labels)\n",
        "    return accuracy\n"
      ],
      "metadata": {
        "id": "NfjVIiDTaty7"
      },
      "execution_count": null,
      "outputs": []
    },
    {
      "cell_type": "code",
      "source": [
        "def train_rnn(\n",
        "    model,\n",
        "    train_dataset,\n",
        "    val_dataset=None,\n",
        "    batch_size=32,\n",
        "    epochs=5,\n",
        "    lr=1e-3,\n",
        "    device='cpu'\n",
        "):\n",
        "    \"\"\"\n",
        "    Train the manual RNN on 'train_dataset', optionally validate on 'val_dataset'.\n",
        "    Logs and returns training/validation loss & accuracy per epoch for plotting.\n",
        "    \"\"\"\n",
        "    # Create DataLoaders\n",
        "    train_loader = DataLoader(train_dataset, batch_size=batch_size, shuffle=True, collate_fn=imdb_collate_fn)\n",
        "    val_loader   = None\n",
        "    if val_dataset is not None:\n",
        "        val_loader = DataLoader(val_dataset, batch_size=batch_size, shuffle=False, collate_fn=imdb_collate_fn)\n",
        "\n",
        "    # Loss & optimizer\n",
        "    criterion = torch.nn.CrossEntropyLoss()\n",
        "    optimizer = torch.optim.Adam(model.parameters(), lr=lr)\n",
        "\n",
        "    model = model.to(device)\n",
        "\n",
        "    # For logging\n",
        "    train_losses, train_accuracies = [], []\n",
        "    val_losses, val_accuracies     = [], []\n",
        "\n",
        "    for epoch in range(epochs):\n",
        "        ######################\n",
        "        #  Training Loop\n",
        "        ######################\n",
        "        model.train()\n",
        "        epoch_loss = 0.0\n",
        "        epoch_acc  = 0.0\n",
        "        total_samples = 0\n",
        "\n",
        "        for batch in train_loader:\n",
        "            input_ids, labels = batch\n",
        "            input_ids = input_ids.to(device)\n",
        "            labels    = labels.to(device)\n",
        "            batch_sz  = input_ids.size(0)\n",
        "\n",
        "            optimizer.zero_grad()\n",
        "\n",
        "            # Forward pass\n",
        "            logits = model(input_ids)  # shape (batch_size, num_classes)\n",
        "\n",
        "            # Compute loss\n",
        "            loss = criterion(logits, labels)\n",
        "            loss.backward()\n",
        "            optimizer.step()\n",
        "\n",
        "            # Accumulate stats\n",
        "            epoch_loss += loss.item() * batch_sz\n",
        "            acc = compute_accuracy(logits, labels)\n",
        "            epoch_acc  += acc * batch_sz\n",
        "            total_samples += batch_sz\n",
        "\n",
        "        # Average\n",
        "        epoch_loss /= total_samples\n",
        "        epoch_acc  /= total_samples\n",
        "        train_losses.append(epoch_loss)\n",
        "        train_accuracies.append(epoch_acc)\n",
        "\n",
        "        ######################\n",
        "        #  Validation Loop\n",
        "        ######################\n",
        "        val_loss_val, val_acc_val = 0.0, 0.0\n",
        "        val_samples = 0\n",
        "        if val_loader is not None:\n",
        "            model.eval()\n",
        "            with torch.no_grad():\n",
        "                for batch in val_loader:\n",
        "                    input_ids, labels = batch\n",
        "                    input_ids = input_ids.to(device)\n",
        "                    labels    = labels.to(device)\n",
        "                    batch_sz  = input_ids.size(0)\n",
        "\n",
        "                    logits = model(input_ids)\n",
        "                    loss = criterion(logits, labels)\n",
        "\n",
        "                    val_loss_val += loss.item() * batch_sz\n",
        "                    val_acc_val  += compute_accuracy(logits, labels) * batch_sz\n",
        "                    val_samples  += batch_sz\n",
        "\n",
        "            val_loss_val /= val_samples\n",
        "            val_acc_val  /= val_samples\n",
        "            val_losses.append(val_loss_val)\n",
        "            val_accuracies.append(val_acc_val)\n",
        "\n",
        "            print(f\"Epoch [{epoch+1}/{epochs}] - \"\n",
        "                  f\"Train Loss: {epoch_loss:.4f}, Train Acc: {epoch_acc:.4f} | \"\n",
        "                  f\"Val Loss: {val_loss_val:.4f}, Val Acc: {val_acc_val:.4f}\")\n",
        "        else:\n",
        "            print(f\"Epoch [{epoch+1}/{epochs}] - \"\n",
        "                  f\"Train Loss: {epoch_loss:.4f}, Train Acc: {epoch_acc:.4f}\")\n",
        "\n",
        "    return {\n",
        "        \"train_losses\": train_losses,\n",
        "        \"train_accuracies\": train_accuracies,\n",
        "        \"val_losses\": val_losses,\n",
        "        \"val_accuracies\": val_accuracies\n",
        "    }\n"
      ],
      "metadata": {
        "id": "Olva2x1eqMBu"
      },
      "execution_count": null,
      "outputs": []
    },
    {
      "cell_type": "code",
      "source": [
        "def evaluate_model(model, dataset, batch_size=32, device='cpu'):\n",
        "    \"\"\"\n",
        "    Evaluates the model on a given dataset, computing accuracy,\n",
        "    plus optional P/R/F for deeper insight.\n",
        "    \"\"\"\n",
        "    loader = DataLoader(dataset, batch_size=batch_size, shuffle=False, collate_fn=imdb_collate_fn)\n",
        "    criterion = torch.nn.CrossEntropyLoss()\n",
        "\n",
        "    model.eval()\n",
        "    model.to(device)\n",
        "\n",
        "    total_loss = 0.0\n",
        "    total_samples = 0\n",
        "\n",
        "    all_preds = []\n",
        "    all_labels = []\n",
        "\n",
        "    with torch.no_grad():\n",
        "        for batch in loader:\n",
        "            input_ids, labels = batch\n",
        "            input_ids = input_ids.to(device)\n",
        "            labels    = labels.to(device)\n",
        "            batch_sz  = input_ids.size(0)\n",
        "\n",
        "            logits = model(input_ids)\n",
        "            loss   = criterion(logits, labels)\n",
        "\n",
        "            total_loss += loss.item() * batch_sz\n",
        "            total_samples += batch_sz\n",
        "\n",
        "            preds = torch.argmax(logits, dim=1)\n",
        "            all_preds.append(preds.cpu())\n",
        "            all_labels.append(labels.cpu())\n",
        "\n",
        "    avg_loss = total_loss / total_samples\n",
        "    all_preds  = torch.cat(all_preds)\n",
        "    all_labels = torch.cat(all_labels)\n",
        "\n",
        "    accuracy = (all_preds == all_labels).sum().item() / total_samples\n",
        "\n",
        "    # Optional: compute precision, recall, F1\n",
        "    # We'll use sklearn for that\n",
        "    precision = precision_score(all_labels, all_preds, average='binary')\n",
        "    recall    = recall_score(all_labels, all_preds, average='binary')\n",
        "    f1        = f1_score(all_labels, all_preds, average='binary')\n",
        "\n",
        "    return {\n",
        "        \"loss\": avg_loss,\n",
        "        \"accuracy\": accuracy,\n",
        "        \"precision\": precision,\n",
        "        \"recall\": recall,\n",
        "        \"f1\": f1\n",
        "    }\n"
      ],
      "metadata": {
        "id": "9GqJ6diKqRl9"
      },
      "execution_count": null,
      "outputs": []
    },
    {
      "cell_type": "code",
      "source": [
        "def plot_loss_curves(train_losses, val_losses=None):\n",
        "    plt.figure(figsize=(8,6))\n",
        "    plt.plot(train_losses, label=\"Train Loss\")\n",
        "    if val_losses:\n",
        "        plt.plot(val_losses, label=\"Val Loss\")\n",
        "    plt.xlabel(\"Epoch\")\n",
        "    plt.ylabel(\"Loss\")\n",
        "    plt.title(\"Training (and Validation) Loss Over Epochs\")\n",
        "    plt.legend()\n",
        "    plt.show()\n"
      ],
      "metadata": {
        "id": "vWzWG6gJqUI_"
      },
      "execution_count": null,
      "outputs": []
    },
    {
      "cell_type": "code",
      "source": [
        "def visualize_predictions(model, dataset, device='cpu', num_examples=5):\n",
        "    \"\"\"\n",
        "    Print out a few examples of model predictions vs. ground truth.\n",
        "    \"\"\"\n",
        "    loader = DataLoader(dataset, batch_size=1, shuffle=True, collate_fn=imdb_collate_fn)\n",
        "    model.eval()\n",
        "    model.to(device)\n",
        "\n",
        "    count = 0\n",
        "    for batch in loader:\n",
        "        if count >= num_examples:\n",
        "            break\n",
        "        input_ids, labels = batch\n",
        "        input_ids = input_ids.to(device)\n",
        "        labels    = labels.item()\n",
        "\n",
        "        with torch.no_grad():\n",
        "            logits = model(input_ids)\n",
        "            pred = torch.argmax(logits, dim=1).item()\n",
        "\n",
        "        # Print details\n",
        "        print(f\"Example {count+1}: True Label = {labels}, Predicted = {pred}\")\n",
        "        count += 1\n"
      ],
      "metadata": {
        "id": "7ToOmVFKqXPL"
      },
      "execution_count": null,
      "outputs": []
    },
    {
      "cell_type": "code",
      "source": [
        "if __name__ == \"__main__\":\n",
        "    # 1) Suppose you have train_encoded, val_encoded, test_encoded from part (a):\n",
        "    train_dataset = IMDBDataset(train_encoded)\n",
        "    val_dataset   = IMDBDataset(val_encoded)\n",
        "    test_dataset  = IMDBDataset(test_encoded)\n",
        "\n",
        "    # 2) Suppose you have a MyManualRNN or similar from part (b),\n",
        "\n",
        "    my_rnn = MyManualRNN(vocab_size=20000, embed_dim=100, hidden_size=64, num_classes=2)\n",
        "\n",
        "    # 3) Train the RNN\n",
        "    history = train_rnn(\n",
        "        model=my_rnn,\n",
        "        train_dataset=train_dataset,\n",
        "        val_dataset=val_dataset,\n",
        "        batch_size=32,\n",
        "        epochs=5,\n",
        "        lr=0.01,\n",
        "        device='cuda'  # or 'cpu'\n",
        "    )\n",
        "\n",
        "    # 4) Plot training/val loss\n",
        "    plot_loss_curves(history[\"train_losses\"], history[\"val_losses\"])\n",
        "\n",
        "    # 5) Evaluate on test set\n",
        "    test_metrics = evaluate_model(my_rnn, test_dataset, batch_size=32, device='cuda')\n",
        "    print(\"Test Metrics:\", test_metrics)\n",
        "\n",
        "    # 6) Visualize a few predictions\n",
        "    visualize_predictions(my_rnn, test_dataset, device='cuda', num_examples=5)\n"
      ],
      "metadata": {
        "colab": {
          "base_uri": "https://localhost:8080/",
          "height": 760
        },
        "id": "J1P3c1D7qYRl",
        "outputId": "ee9050db-d27d-4372-dfe8-b3c017870f22"
      },
      "execution_count": null,
      "outputs": [
        {
          "output_type": "stream",
          "name": "stdout",
          "text": [
            "Epoch [1/5] - Train Loss: 0.7154, Train Acc: 0.5023 | Val Loss: 0.7027, Val Acc: 0.5076\n",
            "Epoch [2/5] - Train Loss: 0.6790, Train Acc: 0.5554 | Val Loss: 0.7028, Val Acc: 0.5036\n",
            "Epoch [3/5] - Train Loss: 0.6521, Train Acc: 0.5851 | Val Loss: 0.7130, Val Acc: 0.5164\n",
            "Epoch [4/5] - Train Loss: 0.6071, Train Acc: 0.6176 | Val Loss: 0.7375, Val Acc: 0.5118\n",
            "Epoch [5/5] - Train Loss: 0.5508, Train Acc: 0.6513 | Val Loss: 0.7859, Val Acc: 0.5102\n"
          ]
        },
        {
          "output_type": "display_data",
          "data": {
            "text/plain": [
              "<Figure size 800x600 with 1 Axes>"
            ],
            "image/png": "[encoded data removed]"
          },
          "metadata": {}
        },
        {
          "output_type": "stream",
          "name": "stdout",
          "text": [
            "Test Metrics: {'loss': 0.7818151849555969, 'accuracy': 0.51096, 'precision': 0.5068506850685068, 'recall': 0.81088, 'f1': 0.6237922333682073}\n",
            "Example 1: True Label = 1, Predicted = 1\n",
            "Example 2: True Label = 0, Predicted = 1\n",
            "Example 3: True Label = 0, Predicted = 0\n",
            "Example 4: True Label = 1, Predicted = 0\n",
            "Example 5: True Label = 0, Predicted = 1\n"
          ]
        }
      ]
    },
    {
      "cell_type": "markdown",
      "source": [
        "1) Performance Analysis\n",
        "Metrics and Visualizations:\n",
        "The training accuracy steadily rises (reaching ~65%), while validation accuracy hovers around ~50%. The training loss decreases significantly (down to ~0.55), but validation loss increases from ~0.70 to ~0.79, indicating overfitting—the model memorizes training data but doesn’t generalize well on unseen samples.\n",
        "\n",
        "Generalization to Unseen Data:\n",
        "The test accuracy (~51%) suggests the model struggles with new reviews. Despite improving on the training set, it barely outperforms random guessing for validation/test data. This gap implies that additional regularization or more sophisticated modeling is needed.\n",
        "\n",
        "Strengths & Weaknesses of Manual Implementation:\n",
        "\n",
        "Strengths:\n",
        "Full transparency into how hidden states are updated each time step.\n",
        "Ability to easily experiment with custom modifications at a very fine-grained level.\n",
        "Weaknesses:\n",
        "More verbose code and a higher chance of bugs.\n",
        "Slower to train than PyTorch’s optimized RNN modules (no cuDNN acceleration).\n",
        "Susceptible to vanishing/exploding gradients for longer sequences.\n"
      ],
      "metadata": {
        "id": "WqtqCHzAT10t"
      }
    },
    {
      "cell_type": "markdown",
      "source": [
        "2) Comparison to Built-in Modules\n",
        "Computational Efficiency:\n",
        "PyTorch’s built-in nn.RNN typically leverages cuDNN and other optimizations, running faster and handling large batches more efficiently. The manual loop in Python is comparatively slow, especially for longer sequences.\n",
        "\n",
        "Implementation Complexity:\n",
        "The built-in nn.RNN  approach is concise—just a few lines to define and run the model—whereas the manual approach requires carefully coding weight matrices, hidden-state updates, and bias terms.\n",
        "\n",
        "Flexibility:\n",
        "A manual RNN can be adapted in ways that standard modules cannot—such as adding custom gating or attention mechanisms at the code level. For most production tasks, though, the built-in modules are sufficiently flexible, less error-prone, and more performant."
      ],
      "metadata": {
        "id": "71xTM9wtUFG1"
      }
    },
    {
      "cell_type": "markdown",
      "source": [
        "3) Challenges and Improvements\n",
        "Challenges:\n",
        "\n",
        "Overfitting: The validation loss climbs while training loss drops, showing the model fails to generalize.\n",
        "Training Stability: Vanilla RNNs commonly face issues like vanishing gradients when dealing with long reviews.\n",
        "Time-Consuming: Implementing manual backprop through time is prone to errors and is computationally slower.\n",
        "Potential Improvements:\n",
        "\n",
        "Regularization: we have to oncorporate dropout on embeddings or hidden states, use weight decay in the optimizer, or employ early stopping based on validation metrics.\n",
        "\n",
        "Architecture Enhancements: We need to replace the simple RNN with an LSTM or GRU cell to better capture long-term dependencies and mitigate vanishing gradients.\n",
        "\n",
        "Better Preprocessing: We need to use more sophisticated tokenization or pretrained embeddings to give the model richer linguistic knowledge.\n",
        "\n",
        "Hyperparameter Tuning: To experiment with different hidden sizes, batch sizes, and learning rates."
      ],
      "metadata": {
        "id": "HMyWNrGbUQN-"
      }
    },
    {
      "cell_type": "markdown",
      "source": [
        "# 4. N-gram language model to analyze"
      ],
      "metadata": {
        "id": "TNS-luuPSwcW"
      }
    },
    {
      "cell_type": "markdown",
      "source": [
        "### Dataset Exploration:"
      ],
      "metadata": {
        "id": "__0setocS23G"
      }
    },
    {
      "cell_type": "code",
      "source": [
        "from google.colab import drive\n",
        "drive.mount('/content/drive')"
      ],
      "metadata": {
        "colab": {
          "base_uri": "https://localhost:8080/"
        },
        "id": "HrJka1FaTw5g",
        "outputId": "43748c6e-9c2c-4bf1-fa4f-0264513f9b4d"
      },
      "execution_count": null,
      "outputs": [
        {
          "output_type": "stream",
          "name": "stdout",
          "text": [
            "Mounted at /content/drive\n"
          ]
        }
      ]
    },
    {
      "cell_type": "code",
      "source": [
        "import pandas as pd\n",
        "\n",
        "# Define file paths (update with actual paths in Google Drive)\n",
        "lyrics_path = \"/content/drive/MyDrive/Colab Notebooks/lyrics-data.csv\"\n",
        "artists_path = \"/content/drive/MyDrive/Colab Notebooks/artists-data.csv\"\n",
        "\n",
        "from re import sub\n",
        "\n",
        "df_artists = pd.read_csv(artists_path)\n",
        "df_lyrics = pd.read_csv(lyrics_path)\n",
        "\n",
        "# Rename 'ALink' to 'Link' for easier merging\n",
        "df_lyrics.rename(columns={'ALink': 'Link'}, inplace=True)\n",
        "\n",
        "# Merge datasets where language is English\n",
        "song_df = pd.merge(df_lyrics[df_lyrics['language'] == 'en'], df_artists, on='Link', how=\"left\")\n",
        "\n",
        "# Drop missing values in lyrics\n",
        "song_df.dropna(subset=['Lyric'], inplace=True)\n",
        "\n",
        "\n",
        "\n"
      ],
      "metadata": {
        "id": "DM8kGwRIUsSm"
      },
      "execution_count": null,
      "outputs": []
    },
    {
      "cell_type": "markdown",
      "source": [
        "#### Why is data cleaning necessary?\n",
        "\n",
        "* Before training an N-Gram model for lyric generation, cleaning the data ensures:\n",
        "\n",
        "* Data consistency → Prevents issues caused by missing or malformed entries.\n",
        "* Better tokenization → Removing unwanted characters improves model performance.\n",
        "* Accurate genre classification → Ensures only relevant songs are included.\n",
        "* Improved generalization → Avoids overfitting to noise or incorrect data."
      ],
      "metadata": {
        "id": "79f-eL6lI0mD"
      }
    },
    {
      "cell_type": "code",
      "source": [
        "# Genres of interest\n",
        "genres_of_interest = ['Hip Hop', 'Rock Alternativo', 'Disco']\n",
        "\n",
        "# Initialize an empty dictionary to store lyrics for each genre\n",
        "genre_lyrics = {genre: [] for genre in genres_of_interest}\n",
        "\n",
        "# Iterate through the DataFrame and extract lyrics for the specified genres\n",
        "for index, row in song_df.iterrows():\n",
        "    if isinstance(row['Genres'], str):\n",
        "        genres = row['Genres'].split(';')\n",
        "        lyrics = row['Lyric']\n",
        "        for genre in genres:\n",
        "            if genre in genres_of_interest:\n",
        "                genre_lyrics[genre].append(lyrics)\n",
        "    else:\n",
        "        print(f\"Skipping row {index} due to invalid 'Genres' value: {row['Genres']}\")\n",
        "\n",
        "# Print the number of lyrics found for each genre\n",
        "for genre, lyrics_list in genre_lyrics.items():\n",
        "    print(f\"Number of lyrics for {genre}: {len(lyrics_list)}\")\n"
      ],
      "metadata": {
        "colab": {
          "base_uri": "https://localhost:8080/"
        },
        "id": "uGI8UZLdXiJl",
        "outputId": "67b0c361-6e73-465c-c48b-651bd1d3ed02"
      },
      "execution_count": null,
      "outputs": [
        {
          "output_type": "stream",
          "name": "stdout",
          "text": [
            "Skipping row 16808 due to invalid 'Genres' value: nan\n",
            "Skipping row 16809 due to invalid 'Genres' value: nan\n",
            "Skipping row 17440 due to invalid 'Genres' value: nan\n",
            "Skipping row 17441 due to invalid 'Genres' value: nan\n",
            "Skipping row 17442 due to invalid 'Genres' value: nan\n",
            "Skipping row 17443 due to invalid 'Genres' value: nan\n",
            "Skipping row 17444 due to invalid 'Genres' value: nan\n",
            "Skipping row 17445 due to invalid 'Genres' value: nan\n",
            "Skipping row 17446 due to invalid 'Genres' value: nan\n",
            "Skipping row 17447 due to invalid 'Genres' value: nan\n",
            "Skipping row 17448 due to invalid 'Genres' value: nan\n",
            "Skipping row 17449 due to invalid 'Genres' value: nan\n",
            "Skipping row 17450 due to invalid 'Genres' value: nan\n",
            "Skipping row 17926 due to invalid 'Genres' value: nan\n",
            "Skipping row 17927 due to invalid 'Genres' value: nan\n",
            "Skipping row 17928 due to invalid 'Genres' value: nan\n",
            "Skipping row 17929 due to invalid 'Genres' value: nan\n",
            "Skipping row 28557 due to invalid 'Genres' value: nan\n",
            "Skipping row 45160 due to invalid 'Genres' value: nan\n",
            "Skipping row 45264 due to invalid 'Genres' value: nan\n",
            "Skipping row 57591 due to invalid 'Genres' value: nan\n",
            "Skipping row 57592 due to invalid 'Genres' value: nan\n",
            "Skipping row 57593 due to invalid 'Genres' value: nan\n",
            "Skipping row 57594 due to invalid 'Genres' value: nan\n",
            "Skipping row 57595 due to invalid 'Genres' value: nan\n",
            "Skipping row 57596 due to invalid 'Genres' value: nan\n",
            "Skipping row 57597 due to invalid 'Genres' value: nan\n",
            "Skipping row 57598 due to invalid 'Genres' value: nan\n",
            "Skipping row 57599 due to invalid 'Genres' value: nan\n",
            "Skipping row 57600 due to invalid 'Genres' value: nan\n",
            "Skipping row 57601 due to invalid 'Genres' value: nan\n",
            "Skipping row 57602 due to invalid 'Genres' value: nan\n",
            "Skipping row 57603 due to invalid 'Genres' value: nan\n",
            "Skipping row 57604 due to invalid 'Genres' value: nan\n",
            "Skipping row 57605 due to invalid 'Genres' value: nan\n",
            "Skipping row 57606 due to invalid 'Genres' value: nan\n",
            "Skipping row 57607 due to invalid 'Genres' value: nan\n",
            "Skipping row 57608 due to invalid 'Genres' value: nan\n",
            "Skipping row 57609 due to invalid 'Genres' value: nan\n",
            "Skipping row 57610 due to invalid 'Genres' value: nan\n",
            "Skipping row 57611 due to invalid 'Genres' value: nan\n",
            "Skipping row 57612 due to invalid 'Genres' value: nan\n",
            "Skipping row 57613 due to invalid 'Genres' value: nan\n",
            "Skipping row 57614 due to invalid 'Genres' value: nan\n",
            "Skipping row 57615 due to invalid 'Genres' value: nan\n",
            "Skipping row 57616 due to invalid 'Genres' value: nan\n",
            "Skipping row 57617 due to invalid 'Genres' value: nan\n",
            "Skipping row 57618 due to invalid 'Genres' value: nan\n",
            "Skipping row 57619 due to invalid 'Genres' value: nan\n",
            "Skipping row 57620 due to invalid 'Genres' value: nan\n",
            "Skipping row 57621 due to invalid 'Genres' value: nan\n",
            "Skipping row 57622 due to invalid 'Genres' value: nan\n",
            "Skipping row 57623 due to invalid 'Genres' value: nan\n",
            "Skipping row 57624 due to invalid 'Genres' value: nan\n",
            "Skipping row 57625 due to invalid 'Genres' value: nan\n",
            "Skipping row 57626 due to invalid 'Genres' value: nan\n",
            "Skipping row 57627 due to invalid 'Genres' value: nan\n",
            "Skipping row 57628 due to invalid 'Genres' value: nan\n",
            "Skipping row 57629 due to invalid 'Genres' value: nan\n",
            "Skipping row 57630 due to invalid 'Genres' value: nan\n",
            "Skipping row 57631 due to invalid 'Genres' value: nan\n",
            "Skipping row 57632 due to invalid 'Genres' value: nan\n",
            "Skipping row 57633 due to invalid 'Genres' value: nan\n",
            "Skipping row 57634 due to invalid 'Genres' value: nan\n",
            "Skipping row 57635 due to invalid 'Genres' value: nan\n",
            "Skipping row 57636 due to invalid 'Genres' value: nan\n",
            "Skipping row 57637 due to invalid 'Genres' value: nan\n",
            "Skipping row 57638 due to invalid 'Genres' value: nan\n",
            "Skipping row 57639 due to invalid 'Genres' value: nan\n",
            "Skipping row 57640 due to invalid 'Genres' value: nan\n",
            "Skipping row 57641 due to invalid 'Genres' value: nan\n",
            "Skipping row 57642 due to invalid 'Genres' value: nan\n",
            "Skipping row 57643 due to invalid 'Genres' value: nan\n",
            "Skipping row 57644 due to invalid 'Genres' value: nan\n",
            "Skipping row 57645 due to invalid 'Genres' value: nan\n",
            "Skipping row 57646 due to invalid 'Genres' value: nan\n",
            "Skipping row 57647 due to invalid 'Genres' value: nan\n",
            "Skipping row 57648 due to invalid 'Genres' value: nan\n",
            "Skipping row 57649 due to invalid 'Genres' value: nan\n",
            "Skipping row 57650 due to invalid 'Genres' value: nan\n",
            "Skipping row 57651 due to invalid 'Genres' value: nan\n",
            "Skipping row 57652 due to invalid 'Genres' value: nan\n",
            "Skipping row 57653 due to invalid 'Genres' value: nan\n",
            "Skipping row 57654 due to invalid 'Genres' value: nan\n",
            "Skipping row 57655 due to invalid 'Genres' value: nan\n",
            "Skipping row 57656 due to invalid 'Genres' value: nan\n",
            "Skipping row 57657 due to invalid 'Genres' value: nan\n",
            "Skipping row 57658 due to invalid 'Genres' value: nan\n",
            "Skipping row 57659 due to invalid 'Genres' value: nan\n",
            "Skipping row 57660 due to invalid 'Genres' value: nan\n",
            "Skipping row 57661 due to invalid 'Genres' value: nan\n",
            "Skipping row 57662 due to invalid 'Genres' value: nan\n",
            "Skipping row 57663 due to invalid 'Genres' value: nan\n",
            "Skipping row 57664 due to invalid 'Genres' value: nan\n",
            "Skipping row 57665 due to invalid 'Genres' value: nan\n",
            "Skipping row 57666 due to invalid 'Genres' value: nan\n",
            "Skipping row 57667 due to invalid 'Genres' value: nan\n",
            "Skipping row 57668 due to invalid 'Genres' value: nan\n",
            "Skipping row 57669 due to invalid 'Genres' value: nan\n",
            "Skipping row 57670 due to invalid 'Genres' value: nan\n",
            "Skipping row 57671 due to invalid 'Genres' value: nan\n",
            "Skipping row 57672 due to invalid 'Genres' value: nan\n",
            "Skipping row 57673 due to invalid 'Genres' value: nan\n",
            "Skipping row 57674 due to invalid 'Genres' value: nan\n",
            "Skipping row 57675 due to invalid 'Genres' value: nan\n",
            "Skipping row 57676 due to invalid 'Genres' value: nan\n",
            "Skipping row 57677 due to invalid 'Genres' value: nan\n",
            "Skipping row 57678 due to invalid 'Genres' value: nan\n",
            "Skipping row 57679 due to invalid 'Genres' value: nan\n",
            "Skipping row 57680 due to invalid 'Genres' value: nan\n",
            "Skipping row 57681 due to invalid 'Genres' value: nan\n",
            "Skipping row 57682 due to invalid 'Genres' value: nan\n",
            "Skipping row 57683 due to invalid 'Genres' value: nan\n",
            "Skipping row 57684 due to invalid 'Genres' value: nan\n",
            "Skipping row 57685 due to invalid 'Genres' value: nan\n",
            "Skipping row 57686 due to invalid 'Genres' value: nan\n",
            "Skipping row 57687 due to invalid 'Genres' value: nan\n",
            "Skipping row 57688 due to invalid 'Genres' value: nan\n",
            "Skipping row 57689 due to invalid 'Genres' value: nan\n",
            "Skipping row 57690 due to invalid 'Genres' value: nan\n",
            "Skipping row 57691 due to invalid 'Genres' value: nan\n",
            "Skipping row 57692 due to invalid 'Genres' value: nan\n",
            "Skipping row 57693 due to invalid 'Genres' value: nan\n",
            "Skipping row 57694 due to invalid 'Genres' value: nan\n",
            "Skipping row 57695 due to invalid 'Genres' value: nan\n",
            "Skipping row 57696 due to invalid 'Genres' value: nan\n",
            "Skipping row 57697 due to invalid 'Genres' value: nan\n",
            "Skipping row 57698 due to invalid 'Genres' value: nan\n",
            "Skipping row 57699 due to invalid 'Genres' value: nan\n",
            "Skipping row 57700 due to invalid 'Genres' value: nan\n",
            "Skipping row 57701 due to invalid 'Genres' value: nan\n",
            "Skipping row 57702 due to invalid 'Genres' value: nan\n",
            "Skipping row 57703 due to invalid 'Genres' value: nan\n",
            "Skipping row 57704 due to invalid 'Genres' value: nan\n",
            "Skipping row 57705 due to invalid 'Genres' value: nan\n",
            "Skipping row 57706 due to invalid 'Genres' value: nan\n",
            "Skipping row 57707 due to invalid 'Genres' value: nan\n",
            "Skipping row 57708 due to invalid 'Genres' value: nan\n",
            "Skipping row 57709 due to invalid 'Genres' value: nan\n",
            "Skipping row 57710 due to invalid 'Genres' value: nan\n",
            "Skipping row 57711 due to invalid 'Genres' value: nan\n",
            "Skipping row 57712 due to invalid 'Genres' value: nan\n",
            "Skipping row 57713 due to invalid 'Genres' value: nan\n",
            "Skipping row 57714 due to invalid 'Genres' value: nan\n",
            "Skipping row 57715 due to invalid 'Genres' value: nan\n",
            "Skipping row 57716 due to invalid 'Genres' value: nan\n",
            "Skipping row 57717 due to invalid 'Genres' value: nan\n",
            "Skipping row 57718 due to invalid 'Genres' value: nan\n",
            "Skipping row 57719 due to invalid 'Genres' value: nan\n",
            "Skipping row 57720 due to invalid 'Genres' value: nan\n",
            "Skipping row 57721 due to invalid 'Genres' value: nan\n",
            "Skipping row 57722 due to invalid 'Genres' value: nan\n",
            "Skipping row 57723 due to invalid 'Genres' value: nan\n",
            "Skipping row 57724 due to invalid 'Genres' value: nan\n",
            "Skipping row 57725 due to invalid 'Genres' value: nan\n",
            "Skipping row 57726 due to invalid 'Genres' value: nan\n",
            "Skipping row 57727 due to invalid 'Genres' value: nan\n",
            "Skipping row 57728 due to invalid 'Genres' value: nan\n",
            "Skipping row 57729 due to invalid 'Genres' value: nan\n",
            "Skipping row 57730 due to invalid 'Genres' value: nan\n",
            "Skipping row 57731 due to invalid 'Genres' value: nan\n",
            "Skipping row 57732 due to invalid 'Genres' value: nan\n",
            "Skipping row 57733 due to invalid 'Genres' value: nan\n",
            "Skipping row 57734 due to invalid 'Genres' value: nan\n",
            "Skipping row 57735 due to invalid 'Genres' value: nan\n",
            "Skipping row 57736 due to invalid 'Genres' value: nan\n",
            "Skipping row 57737 due to invalid 'Genres' value: nan\n",
            "Skipping row 57738 due to invalid 'Genres' value: nan\n",
            "Skipping row 57739 due to invalid 'Genres' value: nan\n",
            "Skipping row 57740 due to invalid 'Genres' value: nan\n",
            "Skipping row 57741 due to invalid 'Genres' value: nan\n",
            "Skipping row 57742 due to invalid 'Genres' value: nan\n",
            "Skipping row 57743 due to invalid 'Genres' value: nan\n",
            "Skipping row 57744 due to invalid 'Genres' value: nan\n",
            "Skipping row 57745 due to invalid 'Genres' value: nan\n",
            "Skipping row 57746 due to invalid 'Genres' value: nan\n",
            "Skipping row 57747 due to invalid 'Genres' value: nan\n",
            "Skipping row 57748 due to invalid 'Genres' value: nan\n",
            "Skipping row 57749 due to invalid 'Genres' value: nan\n",
            "Skipping row 57750 due to invalid 'Genres' value: nan\n",
            "Skipping row 57751 due to invalid 'Genres' value: nan\n",
            "Skipping row 57752 due to invalid 'Genres' value: nan\n",
            "Skipping row 57753 due to invalid 'Genres' value: nan\n",
            "Skipping row 57754 due to invalid 'Genres' value: nan\n",
            "Skipping row 57755 due to invalid 'Genres' value: nan\n",
            "Skipping row 57756 due to invalid 'Genres' value: nan\n",
            "Skipping row 57757 due to invalid 'Genres' value: nan\n",
            "Skipping row 57758 due to invalid 'Genres' value: nan\n",
            "Skipping row 57759 due to invalid 'Genres' value: nan\n",
            "Skipping row 57760 due to invalid 'Genres' value: nan\n",
            "Skipping row 57761 due to invalid 'Genres' value: nan\n",
            "Skipping row 57762 due to invalid 'Genres' value: nan\n",
            "Skipping row 57763 due to invalid 'Genres' value: nan\n",
            "Skipping row 57764 due to invalid 'Genres' value: nan\n",
            "Skipping row 57765 due to invalid 'Genres' value: nan\n",
            "Skipping row 57766 due to invalid 'Genres' value: nan\n",
            "Skipping row 57767 due to invalid 'Genres' value: nan\n",
            "Skipping row 57768 due to invalid 'Genres' value: nan\n",
            "Skipping row 57769 due to invalid 'Genres' value: nan\n",
            "Skipping row 57770 due to invalid 'Genres' value: nan\n",
            "Skipping row 57771 due to invalid 'Genres' value: nan\n",
            "Skipping row 57772 due to invalid 'Genres' value: nan\n",
            "Skipping row 57773 due to invalid 'Genres' value: nan\n",
            "Skipping row 57774 due to invalid 'Genres' value: nan\n",
            "Skipping row 57775 due to invalid 'Genres' value: nan\n",
            "Skipping row 57776 due to invalid 'Genres' value: nan\n",
            "Skipping row 57777 due to invalid 'Genres' value: nan\n",
            "Skipping row 57778 due to invalid 'Genres' value: nan\n",
            "Skipping row 57779 due to invalid 'Genres' value: nan\n",
            "Skipping row 57780 due to invalid 'Genres' value: nan\n",
            "Skipping row 57781 due to invalid 'Genres' value: nan\n",
            "Skipping row 57782 due to invalid 'Genres' value: nan\n",
            "Skipping row 57783 due to invalid 'Genres' value: nan\n",
            "Skipping row 57784 due to invalid 'Genres' value: nan\n",
            "Skipping row 57785 due to invalid 'Genres' value: nan\n",
            "Skipping row 57786 due to invalid 'Genres' value: nan\n",
            "Skipping row 57787 due to invalid 'Genres' value: nan\n",
            "Skipping row 57788 due to invalid 'Genres' value: nan\n",
            "Skipping row 57789 due to invalid 'Genres' value: nan\n",
            "Skipping row 57790 due to invalid 'Genres' value: nan\n",
            "Skipping row 57791 due to invalid 'Genres' value: nan\n",
            "Skipping row 57792 due to invalid 'Genres' value: nan\n",
            "Skipping row 57793 due to invalid 'Genres' value: nan\n",
            "Skipping row 57794 due to invalid 'Genres' value: nan\n",
            "Skipping row 57795 due to invalid 'Genres' value: nan\n",
            "Skipping row 57796 due to invalid 'Genres' value: nan\n",
            "Skipping row 57797 due to invalid 'Genres' value: nan\n",
            "Skipping row 57798 due to invalid 'Genres' value: nan\n",
            "Skipping row 57799 due to invalid 'Genres' value: nan\n",
            "Skipping row 57800 due to invalid 'Genres' value: nan\n",
            "Skipping row 57801 due to invalid 'Genres' value: nan\n",
            "Skipping row 57802 due to invalid 'Genres' value: nan\n",
            "Skipping row 57803 due to invalid 'Genres' value: nan\n",
            "Skipping row 57804 due to invalid 'Genres' value: nan\n",
            "Skipping row 57805 due to invalid 'Genres' value: nan\n",
            "Skipping row 57806 due to invalid 'Genres' value: nan\n",
            "Skipping row 57807 due to invalid 'Genres' value: nan\n",
            "Skipping row 57808 due to invalid 'Genres' value: nan\n",
            "Skipping row 57809 due to invalid 'Genres' value: nan\n",
            "Skipping row 57810 due to invalid 'Genres' value: nan\n",
            "Skipping row 57811 due to invalid 'Genres' value: nan\n",
            "Skipping row 57812 due to invalid 'Genres' value: nan\n",
            "Skipping row 57813 due to invalid 'Genres' value: nan\n",
            "Skipping row 57814 due to invalid 'Genres' value: nan\n",
            "Skipping row 57815 due to invalid 'Genres' value: nan\n",
            "Skipping row 57816 due to invalid 'Genres' value: nan\n",
            "Skipping row 57817 due to invalid 'Genres' value: nan\n",
            "Skipping row 57818 due to invalid 'Genres' value: nan\n",
            "Skipping row 57819 due to invalid 'Genres' value: nan\n",
            "Skipping row 57820 due to invalid 'Genres' value: nan\n",
            "Skipping row 57821 due to invalid 'Genres' value: nan\n",
            "Skipping row 57822 due to invalid 'Genres' value: nan\n",
            "Skipping row 57823 due to invalid 'Genres' value: nan\n",
            "Skipping row 57824 due to invalid 'Genres' value: nan\n",
            "Skipping row 57825 due to invalid 'Genres' value: nan\n",
            "Skipping row 57826 due to invalid 'Genres' value: nan\n",
            "Skipping row 57827 due to invalid 'Genres' value: nan\n",
            "Skipping row 57828 due to invalid 'Genres' value: nan\n",
            "Skipping row 57829 due to invalid 'Genres' value: nan\n",
            "Skipping row 57830 due to invalid 'Genres' value: nan\n",
            "Skipping row 57831 due to invalid 'Genres' value: nan\n",
            "Skipping row 57832 due to invalid 'Genres' value: nan\n",
            "Skipping row 57833 due to invalid 'Genres' value: nan\n",
            "Skipping row 57834 due to invalid 'Genres' value: nan\n",
            "Skipping row 57835 due to invalid 'Genres' value: nan\n",
            "Skipping row 57836 due to invalid 'Genres' value: nan\n",
            "Skipping row 57837 due to invalid 'Genres' value: nan\n",
            "Skipping row 57838 due to invalid 'Genres' value: nan\n",
            "Skipping row 57839 due to invalid 'Genres' value: nan\n",
            "Skipping row 57840 due to invalid 'Genres' value: nan\n",
            "Skipping row 57841 due to invalid 'Genres' value: nan\n",
            "Skipping row 57842 due to invalid 'Genres' value: nan\n",
            "Skipping row 57843 due to invalid 'Genres' value: nan\n",
            "Skipping row 57844 due to invalid 'Genres' value: nan\n",
            "Skipping row 57845 due to invalid 'Genres' value: nan\n",
            "Skipping row 57846 due to invalid 'Genres' value: nan\n",
            "Skipping row 57847 due to invalid 'Genres' value: nan\n",
            "Skipping row 57848 due to invalid 'Genres' value: nan\n",
            "Skipping row 57849 due to invalid 'Genres' value: nan\n",
            "Skipping row 57850 due to invalid 'Genres' value: nan\n",
            "Skipping row 57851 due to invalid 'Genres' value: nan\n",
            "Skipping row 57852 due to invalid 'Genres' value: nan\n",
            "Skipping row 57853 due to invalid 'Genres' value: nan\n",
            "Skipping row 57854 due to invalid 'Genres' value: nan\n",
            "Skipping row 57855 due to invalid 'Genres' value: nan\n",
            "Skipping row 57856 due to invalid 'Genres' value: nan\n",
            "Skipping row 57857 due to invalid 'Genres' value: nan\n",
            "Skipping row 57858 due to invalid 'Genres' value: nan\n",
            "Skipping row 57859 due to invalid 'Genres' value: nan\n",
            "Skipping row 57860 due to invalid 'Genres' value: nan\n",
            "Skipping row 57861 due to invalid 'Genres' value: nan\n",
            "Skipping row 57862 due to invalid 'Genres' value: nan\n",
            "Skipping row 57863 due to invalid 'Genres' value: nan\n",
            "Skipping row 57864 due to invalid 'Genres' value: nan\n",
            "Skipping row 57865 due to invalid 'Genres' value: nan\n",
            "Skipping row 57866 due to invalid 'Genres' value: nan\n",
            "Skipping row 57867 due to invalid 'Genres' value: nan\n",
            "Skipping row 57868 due to invalid 'Genres' value: nan\n",
            "Skipping row 57869 due to invalid 'Genres' value: nan\n",
            "Skipping row 57870 due to invalid 'Genres' value: nan\n",
            "Skipping row 57871 due to invalid 'Genres' value: nan\n",
            "Skipping row 57872 due to invalid 'Genres' value: nan\n",
            "Skipping row 57873 due to invalid 'Genres' value: nan\n",
            "Skipping row 57874 due to invalid 'Genres' value: nan\n",
            "Skipping row 57875 due to invalid 'Genres' value: nan\n",
            "Skipping row 57876 due to invalid 'Genres' value: nan\n",
            "Skipping row 57877 due to invalid 'Genres' value: nan\n",
            "Skipping row 57878 due to invalid 'Genres' value: nan\n",
            "Skipping row 57879 due to invalid 'Genres' value: nan\n",
            "Skipping row 57880 due to invalid 'Genres' value: nan\n",
            "Skipping row 57881 due to invalid 'Genres' value: nan\n",
            "Skipping row 57882 due to invalid 'Genres' value: nan\n",
            "Skipping row 57883 due to invalid 'Genres' value: nan\n",
            "Skipping row 57884 due to invalid 'Genres' value: nan\n",
            "Skipping row 57885 due to invalid 'Genres' value: nan\n",
            "Skipping row 57886 due to invalid 'Genres' value: nan\n",
            "Skipping row 57887 due to invalid 'Genres' value: nan\n",
            "Skipping row 57888 due to invalid 'Genres' value: nan\n",
            "Skipping row 57889 due to invalid 'Genres' value: nan\n",
            "Skipping row 57890 due to invalid 'Genres' value: nan\n",
            "Skipping row 57891 due to invalid 'Genres' value: nan\n",
            "Skipping row 57892 due to invalid 'Genres' value: nan\n",
            "Skipping row 57893 due to invalid 'Genres' value: nan\n",
            "Skipping row 57894 due to invalid 'Genres' value: nan\n",
            "Skipping row 57895 due to invalid 'Genres' value: nan\n",
            "Skipping row 57896 due to invalid 'Genres' value: nan\n",
            "Skipping row 57897 due to invalid 'Genres' value: nan\n",
            "Skipping row 57898 due to invalid 'Genres' value: nan\n",
            "Skipping row 57899 due to invalid 'Genres' value: nan\n",
            "Skipping row 57900 due to invalid 'Genres' value: nan\n",
            "Skipping row 57901 due to invalid 'Genres' value: nan\n",
            "Skipping row 57902 due to invalid 'Genres' value: nan\n",
            "Skipping row 57903 due to invalid 'Genres' value: nan\n",
            "Skipping row 57904 due to invalid 'Genres' value: nan\n",
            "Skipping row 57905 due to invalid 'Genres' value: nan\n",
            "Skipping row 57906 due to invalid 'Genres' value: nan\n",
            "Skipping row 57907 due to invalid 'Genres' value: nan\n",
            "Skipping row 57908 due to invalid 'Genres' value: nan\n",
            "Skipping row 57909 due to invalid 'Genres' value: nan\n",
            "Skipping row 57910 due to invalid 'Genres' value: nan\n",
            "Skipping row 57911 due to invalid 'Genres' value: nan\n",
            "Skipping row 57912 due to invalid 'Genres' value: nan\n",
            "Skipping row 57913 due to invalid 'Genres' value: nan\n",
            "Skipping row 57914 due to invalid 'Genres' value: nan\n",
            "Skipping row 57915 due to invalid 'Genres' value: nan\n",
            "Skipping row 57916 due to invalid 'Genres' value: nan\n",
            "Skipping row 57917 due to invalid 'Genres' value: nan\n",
            "Skipping row 57918 due to invalid 'Genres' value: nan\n",
            "Skipping row 57919 due to invalid 'Genres' value: nan\n",
            "Skipping row 57920 due to invalid 'Genres' value: nan\n",
            "Skipping row 57921 due to invalid 'Genres' value: nan\n",
            "Skipping row 57922 due to invalid 'Genres' value: nan\n",
            "Skipping row 57923 due to invalid 'Genres' value: nan\n",
            "Skipping row 57924 due to invalid 'Genres' value: nan\n",
            "Skipping row 57925 due to invalid 'Genres' value: nan\n",
            "Skipping row 57926 due to invalid 'Genres' value: nan\n",
            "Skipping row 57927 due to invalid 'Genres' value: nan\n",
            "Skipping row 57928 due to invalid 'Genres' value: nan\n",
            "Skipping row 57929 due to invalid 'Genres' value: nan\n",
            "Skipping row 57930 due to invalid 'Genres' value: nan\n",
            "Skipping row 57931 due to invalid 'Genres' value: nan\n",
            "Skipping row 57932 due to invalid 'Genres' value: nan\n",
            "Skipping row 57933 due to invalid 'Genres' value: nan\n",
            "Skipping row 57934 due to invalid 'Genres' value: nan\n",
            "Skipping row 57935 due to invalid 'Genres' value: nan\n",
            "Skipping row 57936 due to invalid 'Genres' value: nan\n",
            "Skipping row 57937 due to invalid 'Genres' value: nan\n",
            "Skipping row 57938 due to invalid 'Genres' value: nan\n",
            "Skipping row 57939 due to invalid 'Genres' value: nan\n",
            "Skipping row 57940 due to invalid 'Genres' value: nan\n",
            "Skipping row 61234 due to invalid 'Genres' value: nan\n",
            "Skipping row 91204 due to invalid 'Genres' value: nan\n",
            "Skipping row 91205 due to invalid 'Genres' value: nan\n",
            "Skipping row 91206 due to invalid 'Genres' value: nan\n",
            "Skipping row 91207 due to invalid 'Genres' value: nan\n",
            "Skipping row 91208 due to invalid 'Genres' value: nan\n",
            "Skipping row 91209 due to invalid 'Genres' value: nan\n",
            "Skipping row 91210 due to invalid 'Genres' value: nan\n",
            "Skipping row 91211 due to invalid 'Genres' value: nan\n",
            "Skipping row 91212 due to invalid 'Genres' value: nan\n",
            "Skipping row 103415 due to invalid 'Genres' value: nan\n",
            "Skipping row 103416 due to invalid 'Genres' value: nan\n",
            "Skipping row 103417 due to invalid 'Genres' value: nan\n",
            "Skipping row 103418 due to invalid 'Genres' value: nan\n",
            "Skipping row 103419 due to invalid 'Genres' value: nan\n",
            "Skipping row 103420 due to invalid 'Genres' value: nan\n",
            "Skipping row 103421 due to invalid 'Genres' value: nan\n",
            "Skipping row 103586 due to invalid 'Genres' value: nan\n",
            "Skipping row 103664 due to invalid 'Genres' value: nan\n",
            "Skipping row 103665 due to invalid 'Genres' value: nan\n",
            "Skipping row 103666 due to invalid 'Genres' value: nan\n",
            "Skipping row 116348 due to invalid 'Genres' value: nan\n",
            "Skipping row 116349 due to invalid 'Genres' value: nan\n",
            "Skipping row 117280 due to invalid 'Genres' value: nan\n",
            "Skipping row 117281 due to invalid 'Genres' value: nan\n",
            "Skipping row 119696 due to invalid 'Genres' value: nan\n",
            "Skipping row 119697 due to invalid 'Genres' value: nan\n",
            "Skipping row 119698 due to invalid 'Genres' value: nan\n",
            "Skipping row 119699 due to invalid 'Genres' value: nan\n",
            "Skipping row 119700 due to invalid 'Genres' value: nan\n",
            "Skipping row 119701 due to invalid 'Genres' value: nan\n",
            "Skipping row 119702 due to invalid 'Genres' value: nan\n",
            "Skipping row 119703 due to invalid 'Genres' value: nan\n",
            "Skipping row 124269 due to invalid 'Genres' value: nan\n",
            "Skipping row 124270 due to invalid 'Genres' value: nan\n",
            "Skipping row 124271 due to invalid 'Genres' value: nan\n",
            "Skipping row 124272 due to invalid 'Genres' value: nan\n",
            "Skipping row 124273 due to invalid 'Genres' value: nan\n",
            "Skipping row 124274 due to invalid 'Genres' value: nan\n",
            "Skipping row 124275 due to invalid 'Genres' value: nan\n",
            "Skipping row 124276 due to invalid 'Genres' value: nan\n",
            "Skipping row 124277 due to invalid 'Genres' value: nan\n",
            "Skipping row 142345 due to invalid 'Genres' value: nan\n",
            "Skipping row 142346 due to invalid 'Genres' value: nan\n",
            "Skipping row 162568 due to invalid 'Genres' value: nan\n",
            "Skipping row 162569 due to invalid 'Genres' value: nan\n",
            "Skipping row 162570 due to invalid 'Genres' value: nan\n",
            "Skipping row 162571 due to invalid 'Genres' value: nan\n",
            "Skipping row 162572 due to invalid 'Genres' value: nan\n",
            "Skipping row 162573 due to invalid 'Genres' value: nan\n",
            "Skipping row 162574 due to invalid 'Genres' value: nan\n",
            "Skipping row 162575 due to invalid 'Genres' value: nan\n",
            "Skipping row 162576 due to invalid 'Genres' value: nan\n",
            "Skipping row 162577 due to invalid 'Genres' value: nan\n",
            "Skipping row 162578 due to invalid 'Genres' value: nan\n",
            "Skipping row 162579 due to invalid 'Genres' value: nan\n",
            "Skipping row 169964 due to invalid 'Genres' value: nan\n",
            "Skipping row 169965 due to invalid 'Genres' value: nan\n",
            "Skipping row 188323 due to invalid 'Genres' value: nan\n",
            "Skipping row 190314 due to invalid 'Genres' value: nan\n",
            "Skipping row 190613 due to invalid 'Genres' value: nan\n",
            "Skipping row 190614 due to invalid 'Genres' value: nan\n",
            "Skipping row 190615 due to invalid 'Genres' value: nan\n",
            "Skipping row 190616 due to invalid 'Genres' value: nan\n",
            "Skipping row 190617 due to invalid 'Genres' value: nan\n",
            "Skipping row 190618 due to invalid 'Genres' value: nan\n",
            "Number of lyrics for Hip Hop: 8412\n",
            "Number of lyrics for Rock Alternativo: 5555\n",
            "Number of lyrics for Disco: 1260\n"
          ]
        }
      ]
    },
    {
      "cell_type": "markdown",
      "source": [
        "#### 📌 Justification:\n",
        "These genres represent diverse linguistic styles—Hip-Hop (complexity & slang), Alternative Rock (abstract & poetic structure), and Disco (repetition & simplicity)—allowing us to evaluate how well the model adapts to different linguistic patterns.\n",
        "\n",
        "* Hip-Hop: Known for complex rhyme schemes, slang, and fast-paced wordplay. We expect frequent repetitions and colloquial expressions that an N-Gram model might struggle to capture accurately.\n",
        "* Rock Alternativo (Alternative Rock): Lyrically, this genre is often poetic, abstract, and emotionally charged. It may contain longer phrases, making higher-order N-Grams (4-grams or 5-grams) more useful for preserving structure.\n",
        "* Disco: Disco lyrics are often repetitive, simple, and rhythmic. This may make bigram models work well, but higher-order N-Grams could overfit due to limited vocabulary."
      ],
      "metadata": {
        "id": "sFjSSkuBELcS"
      }
    },
    {
      "cell_type": "code",
      "source": [
        "def remove_unwanted_chars(text):\n",
        "    \"\"\"\n",
        "    Removes substrings enclosed in [], (), and []() from a string.\n",
        "    \"\"\"\n",
        "    if isinstance(text, str):\n",
        "        text = sub(r'\\[.*?\\]|\\(.*?\\)', '', text)  # Remove text in brackets and parentheses\n",
        "    return text.strip()  # Remove leading/trailing spaces\n",
        "\n",
        "# Clean the lyrics for each genre\n",
        "for genre, lyrics_list in genre_lyrics.items():\n",
        "    genre_lyrics[genre] = [remove_unwanted_chars(lyric) for lyric in lyrics_list]\n"
      ],
      "metadata": {
        "id": "-YNi6_2cM_J_"
      },
      "execution_count": null,
      "outputs": []
    },
    {
      "cell_type": "markdown",
      "source": [
        "### Data Preparation:\n",
        "\n",
        "\n"
      ],
      "metadata": {
        "id": "T2g0vFVbuE5J"
      }
    },
    {
      "cell_type": "code",
      "source": [
        "import spacy\n",
        "\n",
        "# Load lightweight spaCy tokenizer (faster than \"en_core_web_sm\")\n",
        "nlp = spacy.blank(\"en\")\n",
        "\n",
        "# Dictionary to store tokenized lyrics per genre\n",
        "ngram_genre_lyrics = {}\n",
        "\n",
        "# Apply fast tokenization using batch processing\n",
        "for genre, lyrics_list in genre_lyrics.items():\n",
        "    ngram_genre_lyrics[genre] = [\n",
        "        [token.text.lower() for token in doc if not token.is_punct]  # Remove punctuation\n",
        "        for doc in nlp.pipe(lyrics_list, batch_size=50)\n",
        "    ]\n",
        "\n",
        "# Display example tokenized lyrics\n",
        "for genre, tokens in ngram_genre_lyrics.items():\n",
        "    print(f\"Genre: {genre}, Sample Tokens: {tokens[:1]}\")\n",
        "    break  # Show only one example\n"
      ],
      "metadata": {
        "id": "gYxOw94W08LS",
        "colab": {
          "base_uri": "https://localhost:8080/"
        },
        "outputId": "350ec75c-5ec9-496b-8f2f-7ea993515892"
      },
      "execution_count": null,
      "outputs": [
        {
          "output_type": "stream",
          "name": "stdout",
          "text": [
            "Genre: Hip Hop, Sample Tokens: [['go', 'go', 'go', 'go', '\\n', 'go', 'go', 'go', 'shawty', '\\n', 'it', \"'s\", 'your', 'birthday', '\\n', 'we', 'gon', 'party', 'like', 'it', \"'s\", 'your', 'birthday', '\\n', 'we', 'gon', 'sip', 'bacardi', 'like', 'it', \"'s\", 'yo', 'birthday', '\\n', 'and', 'you', 'know', 'we', 'do', \"n't\", 'give', 'a', 'fuck', '\\n', 'it', \"'s\", 'not', 'your', 'birthday', '\\n\\n\\n', 'you', 'can', 'find', 'me', 'in', 'the', 'club', '\\n', 'bottle', 'full', 'of', 'bud', '\\n', 'look', 'mami', 'i', 'got', 'the', 'x', '\\n', 'if', 'you', 'into', 'taking', 'drugs', '\\n', 'i', \"'m\", 'into', 'having', 'sex', 'i', 'ai', \"n't\", 'into', 'making', 'love', '\\n', 'so', 'come', 'give', 'me', 'a', 'hug', 'if', 'you', 'into', 'getting', 'rubbed', '\\n\\n', 'when', 'i', 'pull', 'out', 'up', 'front', 'you', 'see', 'the', 'benz', 'on', 'dubs', '\\n', 'when', 'i', 'roll', '20', 'deep', 'it', \"'s\", '20', 'knives', 'in', 'the', 'club', '\\n', 'niggas', 'heard', 'i', 'fuck', 'with', 'dre', '\\n', 'now', 'they', 'wanna', 'show', 'me', 'love', '\\n', 'when', 'you', 'sell', 'like', 'eminem', '\\n', 'and', 'the', 'hoes', 'they', 'wanna', 'fuck', '\\n', 'but', 'homie', 'ai', \"n't\", 'nothing', 'change', 'ho', \"'s\", 'down', 'g', \"'s\", 'up', '\\n', 'i', 'see', 'xzibit', 'in', 'the', 'cut', '\\n', 'that', 'nigga', 'roll', 'that', 'weed', 'up', '\\n', 'if', 'you', 'watch', 'how', 'i', 'move', '\\n', 'you', \"'ll\", 'mistake', 'me', 'for', 'a', 'playa', 'or', 'pimp', '\\n', 'been', 'hit', 'wit', 'a', 'few', 'shells', 'but', 'i', 'do', 'nt', 'walk', 'wit', 'a', 'limp', '\\n', 'in', 'the', 'hood', 'in', 'l.a.', 'they', 'saying', '50', 'you', 'hot', '\\n', 'they', 'like', 'me', '\\n', 'i', 'want', 'them', 'to', 'love', 'me', 'like', 'they', 'love', 'pac', '\\n', 'but', 'holla', 'in', 'new', 'york', '\\n', 'them', \"niggas'll\", 'tell', 'ya', 'i', 'm', 'loco', '\\n', 'and', 'the', 'plan', 'is', 'to', 'put', 'the', 'rap', 'game', 'in', 'a', 'choke', 'hold', '\\n', 'i', \"'m\", 'feelin', 'focused', 'man', 'my', 'money', 'on', 'my', 'mind', '\\n', 'i', 'got', 'a', 'mill', 'out', 'the', 'deal', 'and', 'i', \"'m\", 'still', 'on', 'the', 'grind', '\\n', 'now', 'shawty', 'said', 'she', 'feeling', 'my', 'style', '\\n', 'she', 'feeling', 'my', 'flow', '\\n', 'her', 'girlfriend', 'wanna', 'get', 'bi', '\\n', 'and', 'they', 'ready', 'to', 'go', '\\n\\n\\n', 'you', 'can', 'find', 'me', 'in', 'the', 'club', '\\n', 'bottle', 'full', 'of', 'bud', '\\n', 'look', 'mami', 'i', 'got', 'the', 'x', '\\n', 'if', 'you', 'into', 'takin', 'drugs', '\\n', 'i', \"'m\", 'into', 'having', 'sex', 'i', 'ai', \"n't\", 'into', 'making', 'love', '\\n', 'so', 'come', 'give', 'me', 'a', 'hug', 'if', 'you', 'into', 'getting', 'rubbed', '\\n\\n', 'my', 'flow', 'my', 'show', 'brought', 'me', 'the', 'dough', '\\n', 'that', 'bought', 'me', 'all', 'my', 'fancy', 'things', '\\n', 'my', 'crib', 'my', 'cars', 'my', 'clothes', 'my', 'jewels', '\\n', 'look', 'nigga', 'i', 'done', 'came', 'up', 'and', 'i', 'ai', \"n't\", 'change', '\\n\\n', 'and', 'you', 'should', 'love', 'it', 'way', 'more', 'then', 'you', 'hate', 'it', '\\n', 'nigga', 'you', 'mad', '\\n', 'i', 'thought', 'that', 'you', \"'d\", 'be', 'happy', 'i', 'made', 'it', '\\n', 'i', \"'m\", 'that', 'cat', 'by', 'the', 'bar', 'toasting', 'to', 'the', 'good', 'life', '\\n', 'you', 'that', 'faggot', 'ass', 'nigga', 'trying', 'to', 'pull', 'me', 'back', 'right', '\\n', 'when', 'my', 'junk', 'get', 'to', 'pumpin', 'in', 'the', 'club', 'it', \"'s\", 'on', '\\n', 'i', 'wink', 'my', 'eye', 'at', 'ya', 'bitch', '\\n', 'if', 'she', 'smiles', 'she', 'gone', '\\n', 'if', 'the', 'roof', 'on', 'fire', 'let', 'the', 'motherfucker', 'burn', '\\n', 'if', 'you', 'talking', 'bout', 'money', 'homie', '\\n', 'i', 'ai', \"n't\", 'concerned', '\\n', 'i', \"'m\", 'a', 'tell', 'you', 'what', 'banks', 'told', 'me', '\\n', 'cause', 'go', 'head', 'switch', 'the', 'style', 'up', '\\n', 'if', 'the', 'niggas', 'hate', 'then', 'let', \"'em\", 'hate', '\\n', 'watch', 'the', 'money', 'pile', 'up', '\\n', 'or', 'we', 'go', 'upside', 'their', 'head', '\\n', 'wit', 'a', 'bottle', 'of', 'bud', '\\n', 'you', 'know', 'where', 'we', 'fucking', 'be', '\\n\\n\\n', 'you', 'can', 'find', 'me', 'in', 'the', 'club', '\\n', 'bottle', 'full', 'of', 'bud', '\\n', 'look', 'mami', 'i', 'got', 'the', 'x', '\\n', 'if', 'you', 'into', 'takin', 'drugs', '\\n', 'i', \"'m\", 'into', 'having', 'sex', 'i', 'ai', \"n't\", 'into', 'making', 'love', '\\n', 'so', 'come', 'give', 'me', 'a', 'hug', 'if', 'you', 'into', 'getting', 'rubbed', '\\n\\n\\n', 'do', \"n't\", 'try', 'to', 'act', 'like', 'you', 'ai', \"n't\", 'know', 'where', 'we', 'been', 'either', 'nigga', '\\n', 'in', 'the', 'club', 'all', 'the', 'time', 'nigga', 'its', 'about', 'to', 'pop', 'off', 'nigga', '\\n', 'g', 'unit']]\n"
          ]
        }
      ]
    },
    {
      "cell_type": "markdown",
      "source": [
        "#### Why Remove Punctuation - Reasoning:\n",
        "\n",
        "* Lyrics rely more on rhythm and phonetics than strict grammar. Removing punctuation makes tokenization cleaner and prevents the model from learning punctuation-specific patterns that might not be useful.\n",
        "Impact on the Language Model:\n",
        "* Keeping punctuation could increase data sparsity, as “hello!” and “hello” would be treated as separate words.\n",
        "* Removing punctuation ensures better generalization and improves model learning across similar phrases."
      ],
      "metadata": {
        "id": "H6vNMBSEEgz1"
      }
    },
    {
      "cell_type": "markdown",
      "source": [
        "### N-gram Model Construction:"
      ],
      "metadata": {
        "id": "1TLNj8FS_9Cj"
      }
    },
    {
      "cell_type": "code",
      "source": [
        "import random\n",
        "import numpy as np\n",
        "from collections import Counter\n",
        "from nltk.util import ngrams\n",
        "from sklearn.model_selection import train_test_split\n",
        "\n",
        "# ✅ Step 1: Splitting data into 80% train, 20% test\n",
        "train_lyrics = {}\n",
        "test_lyrics = {}\n",
        "\n",
        "for genre, lyrics_list in ngram_genre_lyrics.items():\n",
        "    train, test = train_test_split(lyrics_list, test_size=0.2, random_state=42)\n",
        "    train_lyrics[genre] = train\n",
        "    test_lyrics[genre] = test\n",
        "\n",
        "print(\"✅ Data successfully split into 80% training and 20% testing.\")\n"
      ],
      "metadata": {
        "id": "WzjQigXf1dWN",
        "colab": {
          "base_uri": "https://localhost:8080/"
        },
        "outputId": "7cfb44f0-d620-485f-fac5-19c94998445d"
      },
      "execution_count": null,
      "outputs": [
        {
          "output_type": "stream",
          "name": "stdout",
          "text": [
            "✅ Data successfully split into 80% training and 20% testing.\n"
          ]
        }
      ]
    },
    {
      "cell_type": "markdown",
      "source": [
        "#### Why is perplexity limited in evaluating lyrics?\n",
        "\n",
        "* Perplexity measures how well a model predicts the next word but does not account for creativity, coherence, or emotional impact.\n",
        "* Lyrics are inherently unpredictable, making perplexity less meaningful for evaluating song lyrics compared to structured text like news articles.\n",
        "* Perplexity favors memorization over creativity, meaning a low perplexity does not guarantee good lyrics.\n",
        "\n",
        "Alternative Metrics:\n",
        "\n",
        "* BLEU Score (Better for comparing generated lyrics with real lyrics)\n",
        "* Diversity Metrics (Measure novelty of generated text)\n",
        "* Human Evaluation (Assess coherence, emotion, and genre accuracy)\n"
      ],
      "metadata": {
        "id": "J8wqiuXmE4g8"
      }
    },
    {
      "cell_type": "markdown",
      "source": [
        "### Model Evaluation:"
      ],
      "metadata": {
        "id": "IbH1fbjqDiWM"
      }
    },
    {
      "cell_type": "code",
      "source": [
        "def compute_perplexity(test_tokens, ngram_probs, n):\n",
        "    \"\"\"Computes perplexity for a given n-gram model.\"\"\"\n",
        "    test_ngrams = list(ngrams(test_tokens, n))\n",
        "    total_log_prob = 0\n",
        "\n",
        "    for ngram in test_ngrams:\n",
        "        probability = ngram_probs.get(ngram, 1 / (len(ngram_probs) + 1))  # Add-1 smoothing for unseen n-grams\n",
        "        total_log_prob += np.log(probability)\n",
        "\n",
        "    avg_log_prob = total_log_prob / len(test_ngrams)\n",
        "    return np.exp(-avg_log_prob)\n",
        "\n",
        "# ✅ Evaluate perplexity\n",
        "for genre in test_lyrics.keys():\n",
        "    test_sample = sum(test_lyrics[genre], [])  # Flatten tokenized lyrics\n",
        "\n",
        "    print(f\"\\n📌 Perplexity for {genre} (Before Smoothing):\")\n",
        "    for n in [2, 3, 4]:\n",
        "        perplexity = compute_perplexity(test_sample, n_gram_models[genre][f\"{n}-grams\"], n)\n",
        "        print(f\"  {n}-gram model perplexity: {perplexity:.2f}\")\n"
      ],
      "metadata": {
        "colab": {
          "base_uri": "https://localhost:8080/"
        },
        "id": "UT4G3_lBCXWP",
        "outputId": "9ed824d6-190b-4aca-ee86-f66950108bb5"
      },
      "execution_count": null,
      "outputs": [
        {
          "output_type": "stream",
          "name": "stdout",
          "text": [
            "\n",
            "📌 Perplexity for Hip Hop (Before Smoothing):\n",
            "  2-gram model perplexity: 41044.91\n",
            "  3-gram model perplexity: 566298.25\n",
            "  4-gram model perplexity: 1802906.99\n",
            "\n",
            "📌 Perplexity for Rock Alternativo (Before Smoothing):\n",
            "  2-gram model perplexity: 16756.45\n",
            "  3-gram model perplexity: 170900.84\n",
            "  4-gram model perplexity: 487631.18\n",
            "\n",
            "📌 Perplexity for Disco (Before Smoothing):\n",
            "  2-gram model perplexity: 11868.39\n",
            "  3-gram model perplexity: 72985.48\n",
            "  4-gram model perplexity: 142009.42\n"
          ]
        }
      ]
    },
    {
      "cell_type": "markdown",
      "source": [
        "### Smoothing and Creativity:"
      ],
      "metadata": {
        "id": "VBk18F0RDm92"
      }
    },
    {
      "cell_type": "code",
      "source": [
        "# Laplace Smoothing for N-Grams\n",
        "def laplace_smoothing(tokens, n, vocab_size=None):\n",
        "    \"\"\"Applies Laplace smoothing to n-gram probabilities.\"\"\"\n",
        "    token_ngrams = list(ngrams(tokens, n))\n",
        "    freq_dist = Counter(token_ngrams)\n",
        "\n",
        "    if n > 1:\n",
        "        context_ngrams = list(ngrams(tokens, n - 1))\n",
        "        context_freq = Counter(context_ngrams)\n",
        "    else:\n",
        "        context_freq = Counter([() for _ in range(len(tokens))])\n",
        "\n",
        "    if vocab_size is None:\n",
        "        vocab_size = len(set(tokens))\n",
        "\n",
        "    prob_dist = {ngram: (count + 1) / (context_freq[ngram[:-1]] + vocab_size)\n",
        "                 for ngram, count in freq_dist.items()}\n",
        "\n",
        "    return freq_dist, prob_dist"
      ],
      "metadata": {
        "id": "MGhNs-yHABpT"
      },
      "execution_count": null,
      "outputs": []
    },
    {
      "cell_type": "code",
      "source": [
        "# Train N-Gram Models with Laplace Smoothing\n",
        "n_gram_models = {}\n",
        "\n",
        "for genre in train_lyrics.keys():\n",
        "    all_tokens = sum(train_lyrics[genre], [])  # Flatten tokenized lyrics\n",
        "    vocab_size = len(set(all_tokens))  # Get vocabulary size\n",
        "\n",
        "    n_gram_models[genre] = {}\n",
        "    for n in [2, 3, 4]:  # Apply Laplace smoothing for bigram, trigram, 4-gram\n",
        "        freq_dist, prob_dist = laplace_smoothing(all_tokens, n, vocab_size)\n",
        "        n_gram_models[genre][f\"{n}-grams\"] = prob_dist  # Store smoothed probabilities\n",
        "\n",
        "print(\"✅ N-Gram models trained using Laplace smoothing.\")"
      ],
      "metadata": {
        "colab": {
          "base_uri": "https://localhost:8080/"
        },
        "id": "yjFMvTX-AHWd",
        "outputId": "2bd3ebe9-a6f1-4acb-d8cc-732e6e67fc1f"
      },
      "execution_count": null,
      "outputs": [
        {
          "output_type": "stream",
          "name": "stdout",
          "text": [
            "✅ N-Gram models trained using Laplace smoothing.\n"
          ]
        }
      ]
    },
    {
      "cell_type": "markdown",
      "source": [
        "#### Justification for Using Laplace Directly Inside Perplexity Calculation\n",
        "\n",
        "Instead of applying Laplace Smoothing separately, we integrate it directly into the perplexity function:\n",
        "\n",
        "* Avoids zero probabilities → Prevents infinite perplexity when encountering unseen n-grams.\n",
        "* Improves generalization → Ensures the model assigns reasonable probabilities to new lyrics.\n",
        "* More realistic evaluation → In a creative task like lyric generation, we want the model to handle unseen phrases gracefully."
      ],
      "metadata": {
        "id": "EsVCH67pJYao"
      }
    },
    {
      "cell_type": "code",
      "source": [
        "# Linear Interpolation Smoothing for N-Grams\n",
        "def linear_interpolation_smoothing(tokens, n, lambdas=None):\n",
        "    \"\"\"Implements linear interpolation smoothing for n-gram probabilities.\"\"\"\n",
        "    if lambdas is None:\n",
        "        lambdas = [1/n] * n  # Assign equal weights if not provided\n",
        "\n",
        "    token_ngrams = list(ngrams(tokens, n))\n",
        "    unigram_counts = Counter(tokens)\n",
        "    bigram_counts = Counter(ngrams(tokens, 2)) if n > 1 else None\n",
        "    trigram_counts = Counter(ngrams(tokens, 3)) if n > 2 else None\n",
        "\n",
        "    def prob(w1, w2=None, w3=None):\n",
        "        \"\"\"Calculate probability using linear interpolation.\"\"\"\n",
        "        p1 = unigram_counts[w1] / sum(unigram_counts.values())\n",
        "        p2 = (bigram_counts.get((w1, w2), 0) / unigram_counts[w1]) if n > 1 and w2 else 0\n",
        "        p3 = (trigram_counts.get((w1, w2, w3), 0) / bigram_counts.get((w1, w2), 1)) if n > 2 and w3 else 0\n",
        "        return lambdas[0] * p1 + lambdas[1] * p2 + lambdas[2] * p3 if n > 2 else lambdas[0] * p1 + lambdas[1] * p2\n",
        "\n",
        "    return prob\n",
        "\n",
        "# ✅ Train N-Gram Models with Linear Interpolation\n",
        "n_gram_models_interp = {}\n",
        "\n",
        "for genre in train_lyrics.keys():\n",
        "    all_tokens = sum(train_lyrics[genre], [])  # Flatten tokenized lyrics\n",
        "    n_gram_models_interp[genre] = {}\n",
        "\n",
        "    for n in [2, 3, 4]:  # Train models for bigram, trigram, 4-gram\n",
        "        prob_func = linear_interpolation_smoothing(all_tokens, n, lambdas=[0.3, 0.3, 0.4])\n",
        "        n_gram_models_interp[genre][f\"{n}-grams\"] = prob_func\n",
        "\n",
        "print(\"✅ N-Gram models trained using Linear Interpolation Smoothing.\")\n"
      ],
      "metadata": {
        "colab": {
          "base_uri": "https://localhost:8080/"
        },
        "id": "TmdPAsb7BCYT",
        "outputId": "7f65924e-7d79-46b3-efa2-b2f9788df674"
      },
      "execution_count": null,
      "outputs": [
        {
          "output_type": "stream",
          "name": "stdout",
          "text": [
            "✅ N-Gram models trained using Linear Interpolation Smoothing.\n"
          ]
        }
      ]
    },
    {
      "cell_type": "code",
      "source": [
        "def prob(w1, w2=None, w3=None, lambdas=[0.1, 0.3, 0.6]):\n",
        "    \"\"\"\n",
        "    Calculate probability using linear interpolation smoothing.\n",
        "    \"\"\"\n",
        "    total_unigrams = sum(unigram_counts.values()) + 1  # Prevent division by zero\n",
        "    p1 = (unigram_counts.get(w1, 0) + 1) / total_unigrams  # Apply Laplace smoothing\n",
        "\n",
        "    total_bigrams = unigram_counts.get(w1, 0) + len(unigram_counts)  # Avoid division by zero\n",
        "    p2 = ((bigram_counts.get((w1, w2), 0) + 1) / total_bigrams) if n > 1 and w2 else 0\n",
        "\n",
        "    total_trigrams = bigram_counts.get((w1, w2), 0) + len(unigram_counts)  # Avoid division by zero\n",
        "    p3 = ((trigram_counts.get((w1, w2, w3), 0) + 1) / total_trigrams) if n > 2 and w3 else 0\n",
        "\n",
        "    return lambdas[0] * p1 + lambdas[1] * p2 + lambdas[2] * p3\n"
      ],
      "metadata": {
        "id": "5GOhUubZC8Cl"
      },
      "execution_count": null,
      "outputs": []
    },
    {
      "cell_type": "code",
      "source": [
        "def compute_perplexity(test_tokens, ngram_probs, n):\n",
        "    \"\"\"Computes perplexity for a given n-gram model (supports both Laplace and Interpolation).\"\"\"\n",
        "    test_ngrams = list(ngrams(test_tokens, n))\n",
        "    total_log_prob = 0\n",
        "\n",
        "    for ngram in test_ngrams:\n",
        "        # ✅ Handle different n-gram cases\n",
        "        if callable(ngram_probs):  # If using Interpolation (Function)\n",
        "            if n == 3:\n",
        "                probability = ngram_probs(ngram[0], ngram[1], ngram[2])  # Trigram\n",
        "            elif n == 2:\n",
        "                probability = ngram_probs(None, ngram[0], ngram[1])  # Bigram (Pad first)\n",
        "            else:\n",
        "                probability = ngram_probs(None, None, ngram[0])  # Unigram (Pad both)\n",
        "        else:\n",
        "            probability = ngram_probs.get(ngram, 1 / (len(ngram_probs) + 1))  # Laplace smoothing\n",
        "\n",
        "        total_log_prob += np.log(probability)\n",
        "\n",
        "    avg_log_prob = total_log_prob / len(test_ngrams)\n",
        "    return np.exp(-avg_log_prob)\n",
        "\n",
        "# ✅ Re-run Step 4 with the fixed compute_perplexity function\n",
        "for genre in test_lyrics.keys():\n",
        "    test_sample = sum(test_lyrics[genre], [])  # Flatten tokenized lyrics\n",
        "\n",
        "    print(f\"\\n📌 Evaluating Perplexity for {genre}:\")\n",
        "\n",
        "    best_score = float(\"inf\")\n",
        "    best_method = None\n",
        "    best_n_value = None\n",
        "\n",
        "    for n in [2, 3, 4]:\n",
        "        # Compute Laplace perplexity\n",
        "        laplace_perplexity = compute_perplexity(test_sample, n_gram_models_laplace[genre][f\"{n}-grams\"], n)\n",
        "\n",
        "        # Compute Interpolation perplexity (corrected)\n",
        "        interpolated_perplexity = compute_perplexity(test_sample, n_gram_models_interp[genre], n)\n",
        "\n",
        "        print(f\"  {n}-Gram Model Perplexities:\")\n",
        "        print(f\"  - Laplace Smoothing: {laplace_perplexity:.2f}\")\n",
        "        print(f\"  - Linear Interpolation: {interpolated_perplexity:.2f}\")\n",
        "\n",
        "        # ✅ Select the best smoothing method based on lowest perplexity\n",
        "        if laplace_perplexity < best_score:\n",
        "            best_score = laplace_perplexity\n",
        "            best_method = \"Laplace\"\n",
        "            best_n_value = n\n",
        "\n",
        "        if interpolated_perplexity < best_score:\n",
        "            best_score = interpolated_perplexity\n",
        "            best_method = \"Linear Interpolation\"\n",
        "            best_n_value = n\n",
        "\n",
        "    best_smoothing[genre] = best_method\n",
        "    best_n[genre] = best_n_value\n",
        "    print(f\"✅ Best Smoothing for {genre}: {best_method} with {best_n_value}-gram model.\")\n"
      ],
      "metadata": {
        "colab": {
          "base_uri": "https://localhost:8080/"
        },
        "id": "Gqk4n54i3uwr",
        "outputId": "f322b0f4-e558-459f-e6e2-8998a3df2a1e"
      },
      "execution_count": null,
      "outputs": [
        {
          "output_type": "stream",
          "name": "stdout",
          "text": [
            "\n",
            "📌 Evaluating Perplexity for Hip Hop:\n",
            "  2-Gram Model Perplexities:\n",
            "  - Laplace Smoothing: 1469.36\n",
            "  - Linear Interpolation: 537.21\n",
            "  3-Gram Model Perplexities:\n",
            "  - Laplace Smoothing: 41965.48\n",
            "  - Linear Interpolation: 694.17\n",
            "  4-Gram Model Perplexities:\n",
            "  - Laplace Smoothing: 411581.23\n",
            "  - Linear Interpolation: 537.21\n",
            "✅ Best Smoothing for Hip Hop: Linear Interpolation with 4-gram model.\n",
            "\n",
            "📌 Evaluating Perplexity for Rock Alternativo:\n",
            "  2-Gram Model Perplexities:\n",
            "  - Laplace Smoothing: 777.89\n",
            "  - Linear Interpolation: 365.83\n",
            "  3-Gram Model Perplexities:\n",
            "  - Laplace Smoothing: 15996.94\n",
            "  - Linear Interpolation: 440.81\n",
            "  4-Gram Model Perplexities:\n",
            "  - Laplace Smoothing: 142018.86\n",
            "  - Linear Interpolation: 365.83\n",
            "✅ Best Smoothing for Rock Alternativo: Linear Interpolation with 4-gram model.\n",
            "\n",
            "📌 Evaluating Perplexity for Disco:\n",
            "  2-Gram Model Perplexities:\n",
            "  - Laplace Smoothing: 909.26\n",
            "  - Linear Interpolation: 350.76\n",
            "  3-Gram Model Perplexities:\n",
            "  - Laplace Smoothing: 13520.74\n",
            "  - Linear Interpolation: 408.51\n",
            "  4-Gram Model Perplexities:\n",
            "  - Laplace Smoothing: 63392.45\n",
            "  - Linear Interpolation: 350.68\n",
            "✅ Best Smoothing for Disco: Linear Interpolation with 4-gram model.\n"
          ]
        }
      ]
    },
    {
      "cell_type": "markdown",
      "source": [
        "#### Impact of Smoothing on Creativity:\n",
        "\n",
        "Effects of Smoothing:\n",
        "\n",
        "* Improves coverage by preventing zero probabilities for unseen word sequences.\n",
        "* Reduces creativity because it favors more frequent n-grams, making lyrics generic and less innovative.\n",
        "* Balances coherence vs. novelty: Too much smoothing makes lyrics predictable, while too little results in disjointed, nonsensical lyrics."
      ],
      "metadata": {
        "id": "5OKu7enoFSLH"
      }
    },
    {
      "cell_type": "markdown",
      "source": [
        "### Genre-Specific Generation"
      ],
      "metadata": {
        "id": "Drdot9GgIvms"
      }
    },
    {
      "cell_type": "markdown",
      "source": [
        "#### Best Smoothing: Laplace Smoothing is Best\n",
        "\n",
        "* Handles Unseen N-Grams: Prevents zero probabilities, making perplexity stable.\n",
        "* Works Well for Small Datasets: Ensures rare words still get assigned probabilities.\n",
        "* Better Perplexity Scores: Performed better in your evaluation across different n-grams.\n",
        "* Less Parameter Tuning: Unlike linear interpolation, Laplace doesn’t require λ tuning.\n",
        "* Consistent Across N-Grams: More reliable for bigrams, trigrams, and 4-grams."
      ],
      "metadata": {
        "id": "OlXfhT6EI0d4"
      }
    },
    {
      "cell_type": "code",
      "source": [
        "#  Generate Lyrics using N-Gram Models with Laplace Smoothing\n",
        "def generate_lyrics(ngram_probs, seed_word, num_lines=10, n=3):\n",
        "    \"\"\"Generates genre-specific lyrics using a trained n-gram model with Laplace-smoothed probabilities.\"\"\"\n",
        "    current_ngram = tuple([seed_word] * (n - 1))\n",
        "    lyrics = list(current_ngram)\n",
        "\n",
        "    for _ in range(num_lines * 8):  # Approximate 8 words per line\n",
        "        next_words = [(ngram[-1], prob) for ngram, prob in ngram_probs.items() if ngram[:-1] == current_ngram]\n",
        "\n",
        "        if not next_words:\n",
        "            break\n",
        "\n",
        "        next_words_sorted = sorted(next_words, key=lambda x: x[1], reverse=True)\n",
        "        next_word = random.choices([word for word, _ in next_words_sorted],\n",
        "                                   weights=[prob for _, prob in next_words_sorted])[0]\n",
        "\n",
        "        lyrics.append(next_word)\n",
        "        current_ngram = tuple(lyrics[-(n - 1):])\n",
        "\n",
        "    formatted_lyrics = [\" \".join(lyrics[i:i + 8]) for i in range(0, len(lyrics), 8)]\n",
        "    return \"\\n\".join(formatted_lyrics[:num_lines])\n",
        "\n",
        "#  Generate Lyrics for Each Genre\n",
        "for genre, seed in zip([\"Hip Hop\", \"Rock Alternativo\", \"Disco\"], [\"love\", \"dream\", \"party\"]):\n",
        "    print(f\"\\n🎵 Generated Lyrics for {genre} (Laplace-smoothed {n}-gram model, Seed: '{seed}'):\\n\")\n",
        "    print(generate_lyrics(n_gram_models[genre][\"3-grams\"], seed, num_lines=10, n=3))\n",
        "    print(\"\\n\" + \"-\" * 50)"
      ],
      "metadata": {
        "colab": {
          "base_uri": "https://localhost:8080/"
        },
        "id": "Ggp9ecL2n-a_",
        "outputId": "294d656d-1086-45a8-a2ec-8830afae1f13"
      },
      "execution_count": null,
      "outputs": [
        {
          "output_type": "stream",
          "name": "stdout",
          "text": [
            "\n",
            "🎵 Generated Lyrics for Hip Hop (Laplace-smoothed 4-gram model, Seed: 'love'):\n",
            "\n",
            "love love \n",
            " all the shit out on\n",
            "the count momma momma momma \n",
            "\n",
            "\n",
            " we have\n",
            "to rename this one \n",
            " and bust anotha\n",
            "bitch that ai n't from my spins \n",
            "\n",
            "which gun what kid what wife and everyting\n",
            "nice \n",
            " that s makin this butter \n",
            "\n",
            "\n",
            "hundred large in the shade \n",
            " nose running\n",
            "right now \n",
            " i 'm a swing and\n",
            "miss thang outta st. louis i did nt\n",
            "offend ya \n",
            " how could i carry heavy\n",
            "\n",
            "--------------------------------------------------\n",
            "\n",
            "🎵 Generated Lyrics for Rock Alternativo (Laplace-smoothed 4-gram model, Seed: 'dream'):\n",
            "\n",
            "dream dream\n",
            "\n",
            "--------------------------------------------------\n",
            "\n",
            "🎵 Generated Lyrics for Disco (Laplace-smoothed 4-gram model, Seed: 'party'):\n",
            "\n",
            "party party hey hey hey \n",
            " hey it\n",
            "’s my baby goes away for a game\n",
            "then you left behind me \n",
            " the new\n",
            "\n",
            " always looking for love \n",
            "\n",
            " ooh got\n",
            "ta go home \n",
            " well there 's a\n",
            "switch \n",
            " do n't recognize \n",
            "\n",
            " i 'm\n",
            "the quiet kind woah oh \n",
            " oh ringo\n",
            "i love you \n",
            " time we start look\n",
            "at a party machine \n",
            "\n",
            "\n",
            " honey honey \n",
            "\n",
            "i feel like you rikky rock'n roller now\n",
            "\n",
            "--------------------------------------------------\n"
          ]
        }
      ]
    },
    {
      "cell_type": "markdown",
      "source": [
        "#### **Analysis of Generated Lyrics**\n",
        "Quality Assessment:\n",
        "\n",
        "* Coherence: Higher-order N-Grams (4-grams, 5-grams) produced more structured sentences.\n",
        "* Creativity: The model can rearrange words from existing lyrics, but it lacks true originality.\n",
        "\n",
        "Genre-Specific Features:\n",
        "* Hip-Hop: Some slang words were retained, but grammatical inconsistencies appeared.\n",
        "* Alternative Rock: Longer phrases were cut off abruptly due to n-gram constraints.\n",
        "* Disco: Repetitions were well captured, but sometimes overly formulaic.\n",
        "\n",
        "Conclusion:\n",
        "* N-Gram models lack deep creativity but can capture some basic linguistic structures of different genres."
      ],
      "metadata": {
        "id": "4IWWG3cyFg4Z"
      }
    },
    {
      "cell_type": "markdown",
      "source": [
        "#### **Limitations of N-Grams for Song Lyrics Generation**\n",
        "Why N-Grams Struggle with Lyrics?\n",
        "\n",
        "No Understanding of Meaning:\n",
        "\n",
        "* N-Grams lack context and cannot understand song themes.\n",
        "Example: \"love love a motherfucker be havin dreams of baggin\" (generated text) → No deep meaning, just word frequency.\n",
        "\n",
        "Limited Long-Term Structure:\n",
        "\n",
        "* N-Grams only predict based on previous words but cannot handle long-term coherence.\n",
        "* Lyrics often have refrains, verses, bridges → N-Grams cannot learn song structure.\n",
        "\n",
        "Fails at Handling Creativity & Emotion:\n",
        "\n",
        "* N-Grams memorize word sequences instead of creating original ideas.\n",
        "* Human creativity involves metaphors, storytelling, and emotions, which N-Grams cannot generate.\n",
        "\n",
        "What is a Better Approach?\n",
        "\n",
        "*  Recurrent Neural Networks (RNNs) or Transformers (GPT, BERT) can model long-term dependencies better.\n",
        "* Pre-trained models (like GPT-4) can learn semantic meaning and generate more creative, structured lyrics.\n",
        "\n"
      ],
      "metadata": {
        "id": "fOlE3hlnF7p0"
      }
    },
    {
      "cell_type": "markdown",
      "source": [
        "# The END"
      ],
      "metadata": {
        "id": "x87-vTjtJdl-"
      }
    }
  ]
}